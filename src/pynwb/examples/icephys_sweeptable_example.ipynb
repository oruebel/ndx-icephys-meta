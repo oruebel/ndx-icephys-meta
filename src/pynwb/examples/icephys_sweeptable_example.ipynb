{
 "cells": [
  {
   "cell_type": "markdown",
   "metadata": {},
   "source": [
    "# Intracellular Electrophysiology: SweepTable \n",
    "\n",
    "## Step 1: Import the required packages"
   ]
  },
  {
   "cell_type": "code",
   "execution_count": 1,
   "metadata": {},
   "outputs": [],
   "source": [
    "from datetime import datetime\n",
    "from dateutil.tz import tzlocal\n",
    "from pynwb import NWBFile\n",
    "import numpy as np\n",
    "from pynwb.icephys import VoltageClampStimulusSeries\n",
    "from pynwb.icephys import VoltageClampSeries"
   ]
  },
  {
   "cell_type": "markdown",
   "metadata": {},
   "source": [
    "## Step 2: Create an ```NWBFile``` and ```Device```"
   ]
  },
  {
   "cell_type": "code",
   "execution_count": 2,
   "metadata": {},
   "outputs": [],
   "source": [
    "nwbfile = NWBFile('my first synthetic recording', 'EXAMPLE_ID', datetime.now(tzlocal()),\n",
    "                  experimenter='Dr. Bilbo Baggins',\n",
    "                  lab='Bag End Laboratory',\n",
    "                  institution='University of Middle Earth at the Shire',\n",
    "                  experiment_description='I went on an adventure with thirteen dwarves to reclaim vast treasures.',\n",
    "                  session_id='LONELYMTN')"
   ]
  },
  {
   "cell_type": "code",
   "execution_count": 3,
   "metadata": {},
   "outputs": [],
   "source": [
    "device = nwbfile.create_device(name='Heka ITC-1600')"
   ]
  },
  {
   "cell_type": "markdown",
   "metadata": {},
   "source": [
    "## Step 3: Create the electrodes"
   ]
  },
  {
   "cell_type": "code",
   "execution_count": 4,
   "metadata": {},
   "outputs": [],
   "source": [
    "elec0 = nwbfile.create_icephys_electrode(name=\"elec0\",\n",
    "                                         description='a mock intracellular electrode',\n",
    "                                         device=device)\n",
    "elec1 = nwbfile.create_icephys_electrode(name=\"elec1\",\n",
    "                                        description='a mock intracellular electrode',\n",
    "                                        device=device)"
   ]
  },
  {
   "cell_type": "markdown",
   "metadata": {},
   "source": [
    "## Step 4: Create a stimulus/response recording"
   ]
  },
  {
   "cell_type": "code",
   "execution_count": 5,
   "metadata": {},
   "outputs": [],
   "source": [
    "vcss0 = VoltageClampStimulusSeries(\n",
    "    name=\"vcss0\", data=[2, 3, 4, 5, 6], starting_time=234.5, rate=10e3, electrode=elec0, gain=0.03, sweep_number=0)\n",
    "nwbfile.add_stimulus(vcss0)\n",
    "vcs0 = VoltageClampSeries(\n",
    "    name=\"vcs0\", data=[0.1, 0.2, 0.3, 0.4, 0.5],\n",
    "    conversion=1e-12, resolution=np.nan, starting_time=234.5, rate=20e3,\n",
    "    electrode=elec0, gain=0.02, capacitance_slow=100e-12, resistance_comp_correction=70.0,\n",
    "    sweep_number=0)\n",
    "nwbfile.add_acquisition(vcs0)"
   ]
  },
  {
   "cell_type": "markdown",
   "metadata": {},
   "source": [
    "PyNWB automatically populates the ```SweepTable``` for you."
   ]
  },
  {
   "cell_type": "code",
   "execution_count": 6,
   "metadata": {},
   "outputs": [
    {
     "data": {
      "text/html": [
       "<div>\n",
       "<style scoped>\n",
       "    .dataframe tbody tr th:only-of-type {\n",
       "        vertical-align: middle;\n",
       "    }\n",
       "\n",
       "    .dataframe tbody tr th {\n",
       "        vertical-align: top;\n",
       "    }\n",
       "\n",
       "    .dataframe thead th {\n",
       "        text-align: right;\n",
       "    }\n",
       "</style>\n",
       "<table border=\"1\" class=\"dataframe\">\n",
       "  <thead>\n",
       "    <tr style=\"text-align: right;\">\n",
       "      <th></th>\n",
       "      <th>series</th>\n",
       "      <th>sweep_number</th>\n",
       "    </tr>\n",
       "    <tr>\n",
       "      <th>id</th>\n",
       "      <th></th>\n",
       "      <th></th>\n",
       "    </tr>\n",
       "  </thead>\n",
       "  <tbody>\n",
       "    <tr>\n",
       "      <th>0</th>\n",
       "      <td>[vcss0 pynwb.icephys.VoltageClampStimulusSerie...</td>\n",
       "      <td>0</td>\n",
       "    </tr>\n",
       "    <tr>\n",
       "      <th>1</th>\n",
       "      <td>[vcs0 pynwb.icephys.VoltageClampSeries at 0x47...</td>\n",
       "      <td>0</td>\n",
       "    </tr>\n",
       "  </tbody>\n",
       "</table>\n",
       "</div>"
      ],
      "text/plain": [
       "                                               series  sweep_number\n",
       "id                                                                 \n",
       "0   [vcss0 pynwb.icephys.VoltageClampStimulusSerie...             0\n",
       "1   [vcs0 pynwb.icephys.VoltageClampSeries at 0x47...             0"
      ]
     },
     "execution_count": 6,
     "metadata": {},
     "output_type": "execute_result"
    }
   ],
   "source": [
    "nwbfile.sweep_table.to_dataframe()"
   ]
  },
  {
   "cell_type": "markdown",
   "metadata": {},
   "source": [
    "Lets say we recorded from 2 electrodes symultaneously. In this case we have multiple PatchClampSeries with the same sweep number but different ```IntracellularElectrode``` obects. "
   ]
  },
  {
   "cell_type": "code",
   "execution_count": 7,
   "metadata": {},
   "outputs": [],
   "source": [
    "vcss1 = VoltageClampStimulusSeries(\n",
    "    name=\"vcss1\", data=[1, 2, 3, 3, 8], starting_time=264.5, rate=10e3, electrode=elec1, gain=0.03, sweep_number=0)\n",
    "nwbfile.add_stimulus(vcss1)\n",
    "vcs1 = VoltageClampSeries(\n",
    "    name=\"vcs1\", data=[0.15, 0.25, 0.35, 0.45, 0.55],\n",
    "    conversion=1e-12, resolution=np.nan, starting_time=264.5, rate=20e3,\n",
    "    electrode=elec1, gain=0.02, capacitance_slow=100e-12, resistance_comp_correction=70.0,\n",
    "    sweep_number=0)\n",
    "nwbfile.add_acquisition(vcs1)"
   ]
  },
  {
   "cell_type": "code",
   "execution_count": 8,
   "metadata": {},
   "outputs": [
    {
     "data": {
      "text/html": [
       "<div>\n",
       "<style scoped>\n",
       "    .dataframe tbody tr th:only-of-type {\n",
       "        vertical-align: middle;\n",
       "    }\n",
       "\n",
       "    .dataframe tbody tr th {\n",
       "        vertical-align: top;\n",
       "    }\n",
       "\n",
       "    .dataframe thead th {\n",
       "        text-align: right;\n",
       "    }\n",
       "</style>\n",
       "<table border=\"1\" class=\"dataframe\">\n",
       "  <thead>\n",
       "    <tr style=\"text-align: right;\">\n",
       "      <th></th>\n",
       "      <th>series</th>\n",
       "      <th>sweep_number</th>\n",
       "    </tr>\n",
       "    <tr>\n",
       "      <th>id</th>\n",
       "      <th></th>\n",
       "      <th></th>\n",
       "    </tr>\n",
       "  </thead>\n",
       "  <tbody>\n",
       "    <tr>\n",
       "      <th>0</th>\n",
       "      <td>[vcss0 pynwb.icephys.VoltageClampStimulusSerie...</td>\n",
       "      <td>0</td>\n",
       "    </tr>\n",
       "    <tr>\n",
       "      <th>1</th>\n",
       "      <td>[vcs0 pynwb.icephys.VoltageClampSeries at 0x47...</td>\n",
       "      <td>0</td>\n",
       "    </tr>\n",
       "    <tr>\n",
       "      <th>2</th>\n",
       "      <td>[vcss1 pynwb.icephys.VoltageClampStimulusSerie...</td>\n",
       "      <td>0</td>\n",
       "    </tr>\n",
       "    <tr>\n",
       "      <th>3</th>\n",
       "      <td>[vcs1 pynwb.icephys.VoltageClampSeries at 0x47...</td>\n",
       "      <td>0</td>\n",
       "    </tr>\n",
       "  </tbody>\n",
       "</table>\n",
       "</div>"
      ],
      "text/plain": [
       "                                               series  sweep_number\n",
       "id                                                                 \n",
       "0   [vcss0 pynwb.icephys.VoltageClampStimulusSerie...             0\n",
       "1   [vcs0 pynwb.icephys.VoltageClampSeries at 0x47...             0\n",
       "2   [vcss1 pynwb.icephys.VoltageClampStimulusSerie...             0\n",
       "3   [vcs1 pynwb.icephys.VoltageClampSeries at 0x47...             0"
      ]
     },
     "execution_count": 8,
     "metadata": {},
     "output_type": "execute_result"
    }
   ],
   "source": [
    "nwbfile.sweep_table.to_dataframe()"
   ]
  },
  {
   "cell_type": "markdown",
   "metadata": {},
   "source": [
    "As we keep acquiring data we can now add data from additional sweeps, e.g:"
   ]
  },
  {
   "cell_type": "code",
   "execution_count": 9,
   "metadata": {},
   "outputs": [],
   "source": [
    "sweep_number = 1\n",
    "nwbfile.add_stimulus(VoltageClampStimulusSeries(\n",
    "    name=\"vcss\"+str(sweep_number+1), data=[2, 3, 4, 5, 6], \n",
    "    starting_time=234.5, rate=10e3, \n",
    "    electrode=elec1, gain=0.03, \n",
    "    sweep_number=sweep_number))\n",
    "nwbfile.add_acquisition(VoltageClampSeries(\n",
    "    name=\"vcs\"+str(sweep_number+1), data=[0.1, 0.2, 0.3, 0.4, 0.5],\n",
    "    conversion=1e-12, resolution=np.nan, starting_time=234.5, rate=20e3,\n",
    "    electrode=elec1, gain=0.02, capacitance_slow=100e-12, resistance_comp_correction=70.0,\n",
    "    sweep_number=sweep_number))"
   ]
  },
  {
   "cell_type": "code",
   "execution_count": 10,
   "metadata": {},
   "outputs": [
    {
     "data": {
      "text/html": [
       "<div>\n",
       "<style scoped>\n",
       "    .dataframe tbody tr th:only-of-type {\n",
       "        vertical-align: middle;\n",
       "    }\n",
       "\n",
       "    .dataframe tbody tr th {\n",
       "        vertical-align: top;\n",
       "    }\n",
       "\n",
       "    .dataframe thead th {\n",
       "        text-align: right;\n",
       "    }\n",
       "</style>\n",
       "<table border=\"1\" class=\"dataframe\">\n",
       "  <thead>\n",
       "    <tr style=\"text-align: right;\">\n",
       "      <th></th>\n",
       "      <th>series</th>\n",
       "      <th>sweep_number</th>\n",
       "    </tr>\n",
       "    <tr>\n",
       "      <th>id</th>\n",
       "      <th></th>\n",
       "      <th></th>\n",
       "    </tr>\n",
       "  </thead>\n",
       "  <tbody>\n",
       "    <tr>\n",
       "      <th>0</th>\n",
       "      <td>[vcss0 pynwb.icephys.VoltageClampStimulusSerie...</td>\n",
       "      <td>0</td>\n",
       "    </tr>\n",
       "    <tr>\n",
       "      <th>1</th>\n",
       "      <td>[vcs0 pynwb.icephys.VoltageClampSeries at 0x47...</td>\n",
       "      <td>0</td>\n",
       "    </tr>\n",
       "    <tr>\n",
       "      <th>2</th>\n",
       "      <td>[vcss1 pynwb.icephys.VoltageClampStimulusSerie...</td>\n",
       "      <td>0</td>\n",
       "    </tr>\n",
       "    <tr>\n",
       "      <th>3</th>\n",
       "      <td>[vcs1 pynwb.icephys.VoltageClampSeries at 0x47...</td>\n",
       "      <td>0</td>\n",
       "    </tr>\n",
       "    <tr>\n",
       "      <th>4</th>\n",
       "      <td>[vcss2 pynwb.icephys.VoltageClampStimulusSerie...</td>\n",
       "      <td>1</td>\n",
       "    </tr>\n",
       "    <tr>\n",
       "      <th>5</th>\n",
       "      <td>[vcs2 pynwb.icephys.VoltageClampSeries at 0x47...</td>\n",
       "      <td>1</td>\n",
       "    </tr>\n",
       "  </tbody>\n",
       "</table>\n",
       "</div>"
      ],
      "text/plain": [
       "                                               series  sweep_number\n",
       "id                                                                 \n",
       "0   [vcss0 pynwb.icephys.VoltageClampStimulusSerie...             0\n",
       "1   [vcs0 pynwb.icephys.VoltageClampSeries at 0x47...             0\n",
       "2   [vcss1 pynwb.icephys.VoltageClampStimulusSerie...             0\n",
       "3   [vcs1 pynwb.icephys.VoltageClampSeries at 0x47...             0\n",
       "4   [vcss2 pynwb.icephys.VoltageClampStimulusSerie...             1\n",
       "5   [vcs2 pynwb.icephys.VoltageClampSeries at 0x47...             1"
      ]
     },
     "execution_count": 10,
     "metadata": {},
     "output_type": "execute_result"
    }
   ],
   "source": [
    "nwbfile.sweep_table.to_dataframe()"
   ]
  },
  {
   "cell_type": "markdown",
   "metadata": {},
   "source": [
    "Since ```SweepTable``` is a ```DynamicTable``` we can easily add custom metadata about our experiments as additional columns."
   ]
  },
  {
   "cell_type": "code",
   "execution_count": 11,
   "metadata": {},
   "outputs": [],
   "source": [
    "nwbfile.sweep_table.add_column(name='notes', description='lab internal notes about the recordings',\n",
    "                               data=['a', 'a', 'b', 'b', 'c', 'c'])"
   ]
  },
  {
   "cell_type": "code",
   "execution_count": 12,
   "metadata": {},
   "outputs": [
    {
     "data": {
      "text/html": [
       "<div>\n",
       "<style scoped>\n",
       "    .dataframe tbody tr th:only-of-type {\n",
       "        vertical-align: middle;\n",
       "    }\n",
       "\n",
       "    .dataframe tbody tr th {\n",
       "        vertical-align: top;\n",
       "    }\n",
       "\n",
       "    .dataframe thead th {\n",
       "        text-align: right;\n",
       "    }\n",
       "</style>\n",
       "<table border=\"1\" class=\"dataframe\">\n",
       "  <thead>\n",
       "    <tr style=\"text-align: right;\">\n",
       "      <th></th>\n",
       "      <th>series</th>\n",
       "      <th>sweep_number</th>\n",
       "      <th>notes</th>\n",
       "    </tr>\n",
       "    <tr>\n",
       "      <th>id</th>\n",
       "      <th></th>\n",
       "      <th></th>\n",
       "      <th></th>\n",
       "    </tr>\n",
       "  </thead>\n",
       "  <tbody>\n",
       "    <tr>\n",
       "      <th>0</th>\n",
       "      <td>[vcss0 pynwb.icephys.VoltageClampStimulusSerie...</td>\n",
       "      <td>0</td>\n",
       "      <td>a</td>\n",
       "    </tr>\n",
       "    <tr>\n",
       "      <th>1</th>\n",
       "      <td>[vcs0 pynwb.icephys.VoltageClampSeries at 0x47...</td>\n",
       "      <td>0</td>\n",
       "      <td>a</td>\n",
       "    </tr>\n",
       "    <tr>\n",
       "      <th>2</th>\n",
       "      <td>[vcss1 pynwb.icephys.VoltageClampStimulusSerie...</td>\n",
       "      <td>0</td>\n",
       "      <td>b</td>\n",
       "    </tr>\n",
       "    <tr>\n",
       "      <th>3</th>\n",
       "      <td>[vcs1 pynwb.icephys.VoltageClampSeries at 0x47...</td>\n",
       "      <td>0</td>\n",
       "      <td>b</td>\n",
       "    </tr>\n",
       "    <tr>\n",
       "      <th>4</th>\n",
       "      <td>[vcss2 pynwb.icephys.VoltageClampStimulusSerie...</td>\n",
       "      <td>1</td>\n",
       "      <td>c</td>\n",
       "    </tr>\n",
       "    <tr>\n",
       "      <th>5</th>\n",
       "      <td>[vcs2 pynwb.icephys.VoltageClampSeries at 0x47...</td>\n",
       "      <td>1</td>\n",
       "      <td>c</td>\n",
       "    </tr>\n",
       "  </tbody>\n",
       "</table>\n",
       "</div>"
      ],
      "text/plain": [
       "                                               series  sweep_number notes\n",
       "id                                                                       \n",
       "0   [vcss0 pynwb.icephys.VoltageClampStimulusSerie...             0     a\n",
       "1   [vcs0 pynwb.icephys.VoltageClampSeries at 0x47...             0     a\n",
       "2   [vcss1 pynwb.icephys.VoltageClampStimulusSerie...             0     b\n",
       "3   [vcs1 pynwb.icephys.VoltageClampSeries at 0x47...             0     b\n",
       "4   [vcss2 pynwb.icephys.VoltageClampStimulusSerie...             1     c\n",
       "5   [vcs2 pynwb.icephys.VoltageClampSeries at 0x47...             1     c"
      ]
     },
     "execution_count": 12,
     "metadata": {},
     "output_type": "execute_result"
    }
   ],
   "source": [
    "nwbfile.sweep_table.to_dataframe()"
   ]
  },
  {
   "cell_type": "markdown",
   "metadata": {},
   "source": [
    "# Step 5: Querying the ```SweepTable```\n",
    "\n",
    "Get all ```PatchClampSeries``` associated with a particular sweep:"
   ]
  },
  {
   "cell_type": "code",
   "execution_count": 13,
   "metadata": {},
   "outputs": [
    {
     "name": "stdout",
     "output_type": "stream",
     "text": [
      "['vcss2', 'vcs2']\n"
     ]
    }
   ],
   "source": [
    "sweep1 = nwbfile.sweep_table.get_series(1)\n",
    "print([i.name for i in sweep1])"
   ]
  },
  {
   "cell_type": "code",
   "execution_count": 14,
   "metadata": {},
   "outputs": [
    {
     "name": "stdout",
     "output_type": "stream",
     "text": [
      "['vcss0', 'vcs0', 'vcss1', 'vcs1']\n"
     ]
    }
   ],
   "source": [
    "sweep0 = nwbfile.sweep_table.get_series(0)\n",
    "print([i.name for i in sweep0])"
   ]
  },
  {
   "cell_type": "markdown",
   "metadata": {},
   "source": [
    "For ``sweep_number=0`` we find that we have 4 simulaneously recorded ```PatchClampSeries```, i.e., 2 stimulus series and 2 response series. To identify which ones belong together we then need to look at the ```IntracellularElectrode``` that was used, i.e., corresponding series will use the same electrode."
   ]
  },
  {
   "cell_type": "code",
   "execution_count": 15,
   "metadata": {},
   "outputs": [],
   "source": [
    "sweep0 = nwbfile.sweep_table.get_series(0)\n",
    "sweep0_pairs = {}\n",
    "for s in sweep0:\n",
    "    curr_pair = sweep0_pairs.get(s.electrode.name, None)\n",
    "    if curr_pair:\n",
    "        curr_pair.append(s)\n",
    "    else:\n",
    "        sweep0_pairs[s.electrode.name] = [s]"
   ]
  },
  {
   "cell_type": "code",
   "execution_count": 16,
   "metadata": {},
   "outputs": [
    {
     "name": "stdout",
     "output_type": "stream",
     "text": [
      "elec0 : ['vcss0', 'vcs0']\n",
      "elec1 : ['vcss1', 'vcs1']\n"
     ]
    }
   ],
   "source": [
    "for k, v, in sweep0_pairs.items():\n",
    "    print(k, ':' , [i.name for i in v])"
   ]
  },
  {
   "cell_type": "code",
   "execution_count": null,
   "metadata": {},
   "outputs": [],
   "source": []
  }
 ],
 "metadata": {
  "kernelspec": {
   "display_name": "Python 3",
   "language": "python",
   "name": "python3"
  },
  "language_info": {
   "codemirror_mode": {
    "name": "ipython",
    "version": 3
   },
   "file_extension": ".py",
   "mimetype": "text/x-python",
   "name": "python",
   "nbconvert_exporter": "python",
   "pygments_lexer": "ipython3",
   "version": "3.7.4"
  }
 },
 "nbformat": 4,
 "nbformat_minor": 4
}
