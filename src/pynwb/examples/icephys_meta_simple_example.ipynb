{
 "cells": [
  {
   "cell_type": "markdown",
   "metadata": {},
   "source": [
    "# 1. Introduction\n",
    "\n",
    "The ndx-icephys-meta extension at https://github.com/oruebel/ndx-icephys-meta defines 5 new main tables for organizing ICEphys metadata:\n",
    "\n",
    "* IntracellularRecordings,\n",
    "* Sweeps,\n",
    "* SweepSequences,\n",
    "* Runs,\n",
    "* Conditions\n",
    "\n",
    "To make these more easily accesible and to allow us to store the tables in ``/general/intracellular__ephys`` in the NWBFile, the extension also extends NWBFile itself via the new type:\n",
    "* ICEphysFile\n",
    "\n",
    "ICEphysFile makes all 5 tables accesible via corresponding properties, manages creation of the tables, and provides convenienc functions for populating the tables. In addition, ICEphysFile also declares SweepTable as deprecated in the schema and adds warnings if SweepTable is being used.\n",
    "\n",
    "**Note:** Upon merging of this proposal with the NWB core, the ``ICEphysFile`` neurodata_type would be removed and NWBFile updated accordingly instead. "
   ]
  },
  {
   "cell_type": "code",
   "execution_count": 1,
   "metadata": {},
   "outputs": [],
   "source": [
    "# Standard Python imports\n",
    "from datetime import datetime\n",
    "from dateutil.tz import tzlocal\n",
    "import numpy as np"
   ]
  },
  {
   "cell_type": "code",
   "execution_count": 2,
   "metadata": {},
   "outputs": [],
   "source": [
    "# Standard PyNWB imports\n",
    "from pynwb.icephys import CurrentClampStimulusSeries, VoltageClampSeries\n",
    "from pynwb import NWBHDF5IO"
   ]
  },
  {
   "cell_type": "code",
   "execution_count": 3,
   "metadata": {},
   "outputs": [],
   "source": [
    "# Imports needed from the ndx-icephys-meta\n",
    "from ndx_icephys_meta.icephys import ICEphysFile"
   ]
  },
  {
   "cell_type": "markdown",
   "metadata": {},
   "source": [
    "# 2. Create a basic NWB File for testing\n",
    "\n",
    "**The following parts of the code are for basic setup only and are unchanged from what is in the current NWB release**"
   ]
  },
  {
   "cell_type": "code",
   "execution_count": 4,
   "metadata": {},
   "outputs": [],
   "source": [
    "# Create the file\n",
    "nwbfile = ICEphysFile(\n",
    "            session_description='my first synthetic recording',\n",
    "            identifier='EXAMPLE_ID',\n",
    "            session_start_time=datetime.now(tzlocal()),\n",
    "            experimenter='Dr. Bilbo Baggins',\n",
    "            lab='Bag End Laboratory',\n",
    "            institution='University of Middle Earth at the Shire',\n",
    "            experiment_description='I went on an adventure with thirteen dwarves to reclaim vast treasures.',\n",
    "            session_id='LONELYMTN')\n",
    "# Add a device\n",
    "device = nwbfile.create_device(name='Heka ITC-1600')\n",
    "# Add an intracellular electrode\n",
    "electrode = nwbfile.create_ic_electrode(name=\"elec0\",\n",
    "                                        description='a mock intracellular electrode',\n",
    "                                        device=device)\n",
    "# Create an ic-ephys stimulus\n",
    "stimulus = CurrentClampStimulusSeries(\n",
    "            name=\"ccss\",\n",
    "            data=[1, 2, 3, 4, 5],\n",
    "            starting_time=123.6,\n",
    "            rate=10e3,\n",
    "            electrode=electrode,\n",
    "            gain=0.02,\n",
    "            sweep_number=15)\n",
    "# Create and ic-response\n",
    "response = VoltageClampSeries(\n",
    "            name='vcs',\n",
    "            data=[0.1, 0.2, 0.3, 0.4, 0.5],\n",
    "            conversion=1e-12,\n",
    "            resolution=np.nan,\n",
    "            starting_time=123.6,\n",
    "            rate=20e3,\n",
    "            electrode=electrode,\n",
    "            gain=0.02,\n",
    "            capacitance_slow=100e-12,\n",
    "            resistance_comp_correction=70.0,\n",
    "            sweep_number=15)"
   ]
  },
  {
   "cell_type": "markdown",
   "metadata": {},
   "source": [
    "In the current workflow, we would now add our response and stimulus to the file via:\n",
    "\n",
    "```\n",
    "nwbfile.add_stimulus(stimulus)\n",
    "nwbfile.add_acquisition(response)\n",
    "```\n",
    "\n",
    "This workflow is still fine, but when using the new metadata tables, we don't have to do this, because the ``add_intracellular_recording`` function will add them to the NWBFile for us if they are not already part of it, so we can skip this step."
   ]
  },
  {
   "cell_type": "markdown",
   "metadata": {},
   "source": [
    "# 3. Construct our Intracellular Electrophysiolgy Metadata tables\n",
    "\n",
    "**The parts in this section are what consitutes the new elements from this proposal.**"
   ]
  },
  {
   "cell_type": "markdown",
   "metadata": {},
   "source": [
    "### Add an intracelluar recording\n",
    "Add a intracellular recording consisting of and electrode, stimulus, and reponse. Optionally, the user may set the ``id`` field for the recording. "
   ]
  },
  {
   "cell_type": "code",
   "execution_count": 5,
   "metadata": {},
   "outputs": [
    {
     "data": {
      "text/plain": [
       "0"
      ]
     },
     "execution_count": 5,
     "metadata": {},
     "output_type": "execute_result"
    }
   ],
   "source": [
    "nwbfile.add_intracellular_recording(electrode=electrode,\n",
    "                                    stimulus=stimulus,\n",
    "                                    response=response,\n",
    "                                    id=10)"
   ]
  },
  {
   "cell_type": "markdown",
   "metadata": {},
   "source": [
    "**Note:** A recording may optionally also consist of just an electrode and stimulus or electrode and response, but at least one of stimulus or response are required.\n",
    "\n",
    "**Note:** If the ``id`` is omitted then PyNWB will automatically number recordings in sequences (i.e., id is the same as the row number).\n",
    "\n",
    "**Note:** The IntracellularRecordings table is optional and will be created automatically by ICEphysFile the first time the table is being modified. \n",
    "\n",
    "**Note:** If the given electrode, stimulus, or response are not part of the nwbfile object, then they will be automatically added to it here.\n",
    "\n",
    "**Note** The IntracellularRecordigns, Sweeps, SweepSequences, Runs and Conditions tables all enforce unique ids when adding rows. I.e., adding an intracellular recording with the same id results in an error, e.g.,:"
   ]
  },
  {
   "cell_type": "code",
   "execution_count": 6,
   "metadata": {},
   "outputs": [
    {
     "name": "stdout",
     "output_type": "stream",
     "text": [
      "ValueError raised with message: 'id 10 already in the table' \n"
     ]
    }
   ],
   "source": [
    "try:\n",
    "    nwbfile.add_intracellular_recording(electrode=electrode,\n",
    "                                        stimulus=stimulus,\n",
    "                                        response=response,\n",
    "                                        id=10)\n",
    "except ValueError as e:\n",
    "    print(\"ValueError raised with message: '%s' \"  % str(e))"
   ]
  },
  {
   "cell_type": "markdown",
   "metadata": {},
   "source": [
    "### Add a sweep\n",
    "Add a single sweep consisting of a set of intracellular recordings. Again, setting the ``id`` for a sweep is optional. Also this table is optional and will be created automatically by ICEphysFile. The ``recordings`` argument of the ``add_sweep`` function here is simply a list of ints with the indices of the correspondign rows in the IntracellularRecordings table."
   ]
  },
  {
   "cell_type": "code",
   "execution_count": 7,
   "metadata": {},
   "outputs": [
    {
     "data": {
      "text/plain": [
       "0"
      ]
     },
     "execution_count": 7,
     "metadata": {},
     "output_type": "execute_result"
    }
   ],
   "source": [
    "nwbfile.add_ic_sweep(recordings=[0], id=12)"
   ]
  },
  {
   "cell_type": "markdown",
   "metadata": {},
   "source": [
    "**Note** The `recordings`` argument is the list of indicies of the rows in our intracellular recordings table that we want to reference. The indices are determined by the order in which added the elements to the table. \n",
    "\n",
    "If we don't know the row indicies, but only the id's of the intracellular recordings that we want to reference, then we can search for the id's as follows:"
   ]
  },
  {
   "cell_type": "code",
   "execution_count": 8,
   "metadata": {},
   "outputs": [
    {
     "name": "stdout",
     "output_type": "stream",
     "text": [
      "[0]\n"
     ]
    }
   ],
   "source": [
    "row_indicies = (nwbfile.intracellular_recordings.id == [10,])\n",
    "print(row_indicies)"
   ]
  },
  {
   "cell_type": "markdown",
   "metadata": {},
   "source": [
    "**Note:** The same is true for our other tables as well, i.e., referencing is done by indices of rows (NOT ids). If we only know ids we can search for them in the same manner on the other tables as well, e.g,. ```nwbfile.sweeps == 15```. In the search we can use a list of integer ids or a single it. "
   ]
  },
  {
   "cell_type": "markdown",
   "metadata": {},
   "source": [
    "### Add a sweep sequence\n",
    "Add a single sweep sequence consisting of a set of sweeps. Again, setting the ``id`` for a sweep sequence is optional. Also this table is optional and will be created automatically by ICEphysFile. The ``sweeps`` argument of the ``add_sweep_sequence`` function here is simply a list of ints with the indices of the correspondign rows in the Sweeps table."
   ]
  },
  {
   "cell_type": "code",
   "execution_count": 9,
   "metadata": {},
   "outputs": [
    {
     "data": {
      "text/plain": [
       "0"
      ]
     },
     "execution_count": 9,
     "metadata": {},
     "output_type": "execute_result"
    }
   ],
   "source": [
    "nwbfile.add_ic_sweep_sequence(sweeps=[0], id=15)"
   ]
  },
  {
   "cell_type": "markdown",
   "metadata": {},
   "source": [
    "### Add a run\n",
    "Add a single run consisting of a set of sweep sequences. Again, setting the ``id`` for a run is optional. Also this table is optional and will be created automatically by ICEphysFile. The ``sweep_sequences`` argument of the ``add_sweep_sequence`` function here is simply a list of ints with the indices of the correspondign rows in the Sweeps table."
   ]
  },
  {
   "cell_type": "code",
   "execution_count": 10,
   "metadata": {},
   "outputs": [
    {
     "data": {
      "text/plain": [
       "0"
      ]
     },
     "execution_count": 10,
     "metadata": {},
     "output_type": "execute_result"
    }
   ],
   "source": [
    "nwbfile.add_ic_run(sweep_sequences=[0], id=17)"
   ]
  },
  {
   "cell_type": "markdown",
   "metadata": {},
   "source": [
    "### Add a condition\n",
    "Add a single condition consisting of a set of runs. Again, setting the ``id`` for a condition is optional. Also this table is optional and will be created automatically by ICEphysFile. The ``runs`` argument of the ``add_ic_condition`` function here is simply a list of ints with the indices of the correspondign rows in the Runs table."
   ]
  },
  {
   "cell_type": "code",
   "execution_count": 11,
   "metadata": {},
   "outputs": [
    {
     "data": {
      "text/plain": [
       "0"
      ]
     },
     "execution_count": 11,
     "metadata": {},
     "output_type": "execute_result"
    }
   ],
   "source": [
    "nwbfile.add_ic_condition(runs=[0], id=19)"
   ]
  },
  {
   "cell_type": "markdown",
   "metadata": {},
   "source": [
    "To add additonal columns to any of the tables, we can use the``.add_column`` function on the corresponding table after they have been created. We can then also add new items with the new column values."
   ]
  },
  {
   "cell_type": "code",
   "execution_count": 12,
   "metadata": {},
   "outputs": [
    {
     "data": {
      "text/plain": [
       "1"
      ]
     },
     "execution_count": 12,
     "metadata": {},
     "output_type": "execute_result"
    }
   ],
   "source": [
    "nwbfile.ic_conditions.add_column(name='tag', data=np.arange(1), description='integer tag for a sweep')\n",
    "nwbfile.add_ic_condition(runs=[0], id=21, tag=3)"
   ]
  },
  {
   "cell_type": "markdown",
   "metadata": {},
   "source": [
    "# 4. Accessing the tables\n",
    "\n",
    "All icephys metadata tables are available as attributes on the nwbfile. The following simply plots the tables to show their content."
   ]
  },
  {
   "cell_type": "code",
   "execution_count": 13,
   "metadata": {},
   "outputs": [
    {
     "data": {
      "text/html": [
       "<div>\n",
       "<style scoped>\n",
       "    .dataframe tbody tr th:only-of-type {\n",
       "        vertical-align: middle;\n",
       "    }\n",
       "\n",
       "    .dataframe tbody tr th {\n",
       "        vertical-align: top;\n",
       "    }\n",
       "\n",
       "    .dataframe thead th {\n",
       "        text-align: right;\n",
       "    }\n",
       "</style>\n",
       "<table border=\"1\" class=\"dataframe\">\n",
       "  <thead>\n",
       "    <tr style=\"text-align: right;\">\n",
       "      <th></th>\n",
       "      <th>stimulus</th>\n",
       "      <th>response</th>\n",
       "      <th>electrode</th>\n",
       "    </tr>\n",
       "    <tr>\n",
       "      <th>id</th>\n",
       "      <th></th>\n",
       "      <th></th>\n",
       "      <th></th>\n",
       "    </tr>\n",
       "  </thead>\n",
       "  <tbody>\n",
       "    <tr>\n",
       "      <th>10</th>\n",
       "      <td>(0, 5, ccss pynwb.icephys.CurrentClampStimulus...</td>\n",
       "      <td>(0, 5, vcs pynwb.icephys.VoltageClampSeries at...</td>\n",
       "      <td>elec0 pynwb.icephys.IntracellularElectrode at ...</td>\n",
       "    </tr>\n",
       "  </tbody>\n",
       "</table>\n",
       "</div>"
      ],
      "text/plain": [
       "                                             stimulus  \\\n",
       "id                                                      \n",
       "10  (0, 5, ccss pynwb.icephys.CurrentClampStimulus...   \n",
       "\n",
       "                                             response  \\\n",
       "id                                                      \n",
       "10  (0, 5, vcs pynwb.icephys.VoltageClampSeries at...   \n",
       "\n",
       "                                            electrode  \n",
       "id                                                     \n",
       "10  elec0 pynwb.icephys.IntracellularElectrode at ...  "
      ]
     },
     "execution_count": 13,
     "metadata": {},
     "output_type": "execute_result"
    }
   ],
   "source": [
    "nwbfile.intracellular_recordings.to_dataframe()"
   ]
  },
  {
   "cell_type": "code",
   "execution_count": 14,
   "metadata": {},
   "outputs": [
    {
     "data": {
      "text/html": [
       "<div>\n",
       "<style scoped>\n",
       "    .dataframe tbody tr th:only-of-type {\n",
       "        vertical-align: middle;\n",
       "    }\n",
       "\n",
       "    .dataframe tbody tr th {\n",
       "        vertical-align: top;\n",
       "    }\n",
       "\n",
       "    .dataframe thead th {\n",
       "        text-align: right;\n",
       "    }\n",
       "</style>\n",
       "<table border=\"1\" class=\"dataframe\">\n",
       "  <thead>\n",
       "    <tr style=\"text-align: right;\">\n",
       "      <th></th>\n",
       "      <th>recordings</th>\n",
       "    </tr>\n",
       "    <tr>\n",
       "      <th>id</th>\n",
       "      <th></th>\n",
       "    </tr>\n",
       "  </thead>\n",
       "  <tbody>\n",
       "    <tr>\n",
       "      <th>12</th>\n",
       "      <td>s...</td>\n",
       "    </tr>\n",
       "  </tbody>\n",
       "</table>\n",
       "</div>"
      ],
      "text/plain": [
       "                                           recordings\n",
       "id                                                   \n",
       "12                                               s..."
      ]
     },
     "execution_count": 14,
     "metadata": {},
     "output_type": "execute_result"
    }
   ],
   "source": [
    "nwbfile.ic_sweeps.to_dataframe()"
   ]
  },
  {
   "cell_type": "code",
   "execution_count": 15,
   "metadata": {},
   "outputs": [
    {
     "data": {
      "text/html": [
       "<div>\n",
       "<style scoped>\n",
       "    .dataframe tbody tr th:only-of-type {\n",
       "        vertical-align: middle;\n",
       "    }\n",
       "\n",
       "    .dataframe tbody tr th {\n",
       "        vertical-align: top;\n",
       "    }\n",
       "\n",
       "    .dataframe thead th {\n",
       "        text-align: right;\n",
       "    }\n",
       "</style>\n",
       "<table border=\"1\" class=\"dataframe\">\n",
       "  <thead>\n",
       "    <tr style=\"text-align: right;\">\n",
       "      <th></th>\n",
       "      <th>sweeps</th>\n",
       "    </tr>\n",
       "    <tr>\n",
       "      <th>id</th>\n",
       "      <th></th>\n",
       "    </tr>\n",
       "  </thead>\n",
       "  <tbody>\n",
       "    <tr>\n",
       "      <th>15</th>\n",
       "      <td>rec...</td>\n",
       "    </tr>\n",
       "  </tbody>\n",
       "</table>\n",
       "</div>"
      ],
      "text/plain": [
       "                                               sweeps\n",
       "id                                                   \n",
       "15                                             rec..."
      ]
     },
     "execution_count": 15,
     "metadata": {},
     "output_type": "execute_result"
    }
   ],
   "source": [
    "nwbfile.ic_sweep_sequences.to_dataframe()"
   ]
  },
  {
   "cell_type": "code",
   "execution_count": 16,
   "metadata": {},
   "outputs": [
    {
     "data": {
      "text/html": [
       "<div>\n",
       "<style scoped>\n",
       "    .dataframe tbody tr th:only-of-type {\n",
       "        vertical-align: middle;\n",
       "    }\n",
       "\n",
       "    .dataframe tbody tr th {\n",
       "        vertical-align: top;\n",
       "    }\n",
       "\n",
       "    .dataframe thead th {\n",
       "        text-align: right;\n",
       "    }\n",
       "</style>\n",
       "<table border=\"1\" class=\"dataframe\">\n",
       "  <thead>\n",
       "    <tr style=\"text-align: right;\">\n",
       "      <th></th>\n",
       "      <th>sweep_sequences</th>\n",
       "    </tr>\n",
       "    <tr>\n",
       "      <th>id</th>\n",
       "      <th></th>\n",
       "    </tr>\n",
       "  </thead>\n",
       "  <tbody>\n",
       "    <tr>\n",
       "      <th>17</th>\n",
       "      <td>...</td>\n",
       "    </tr>\n",
       "  </tbody>\n",
       "</table>\n",
       "</div>"
      ],
      "text/plain": [
       "                                      sweep_sequences\n",
       "id                                                   \n",
       "17                                                ..."
      ]
     },
     "execution_count": 16,
     "metadata": {},
     "output_type": "execute_result"
    }
   ],
   "source": [
    "nwbfile.ic_runs.to_dataframe()"
   ]
  },
  {
   "cell_type": "code",
   "execution_count": 17,
   "metadata": {},
   "outputs": [
    {
     "data": {
      "text/html": [
       "<div>\n",
       "<style scoped>\n",
       "    .dataframe tbody tr th:only-of-type {\n",
       "        vertical-align: middle;\n",
       "    }\n",
       "\n",
       "    .dataframe tbody tr th {\n",
       "        vertical-align: top;\n",
       "    }\n",
       "\n",
       "    .dataframe thead th {\n",
       "        text-align: right;\n",
       "    }\n",
       "</style>\n",
       "<table border=\"1\" class=\"dataframe\">\n",
       "  <thead>\n",
       "    <tr style=\"text-align: right;\">\n",
       "      <th></th>\n",
       "      <th>runs</th>\n",
       "      <th>tag</th>\n",
       "    </tr>\n",
       "    <tr>\n",
       "      <th>id</th>\n",
       "      <th></th>\n",
       "      <th></th>\n",
       "    </tr>\n",
       "  </thead>\n",
       "  <tbody>\n",
       "    <tr>\n",
       "      <th>19</th>\n",
       "      <td>sweep_se...</td>\n",
       "      <td>0</td>\n",
       "    </tr>\n",
       "    <tr>\n",
       "      <th>21</th>\n",
       "      <td>sweep_se...</td>\n",
       "      <td>3</td>\n",
       "    </tr>\n",
       "  </tbody>\n",
       "</table>\n",
       "</div>"
      ],
      "text/plain": [
       "                                                 runs  tag\n",
       "id                                                        \n",
       "19                                        sweep_se...    0\n",
       "21                                        sweep_se...    3"
      ]
     },
     "execution_count": 17,
     "metadata": {},
     "output_type": "execute_result"
    }
   ],
   "source": [
    "nwbfile.ic_conditions.to_dataframe()"
   ]
  },
  {
   "cell_type": "markdown",
   "metadata": {},
   "source": [
    "# 5. Read/Write the data\n",
    "\n",
    "**Read/Write of the file is unchanged from what is in the current NWB release**"
   ]
  },
  {
   "cell_type": "code",
   "execution_count": 18,
   "metadata": {},
   "outputs": [],
   "source": [
    "# Write our test file\n",
    "testpath = \"test_icephys_file.h5\"\n",
    "with NWBHDF5IO(testpath, 'w') as io:\n",
    "    io.write(nwbfile)"
   ]
  },
  {
   "cell_type": "code",
   "execution_count": 19,
   "metadata": {},
   "outputs": [],
   "source": [
    "# Read the data back in\n",
    "with NWBHDF5IO(testpath, 'r') as io:\n",
    "    infile = io.read() "
   ]
  },
  {
   "cell_type": "markdown",
   "metadata": {},
   "source": [
    "# 6. Validate that the data we have written is the same\n",
    "\n",
    "In the following we read the data again and do asserts to confirm that the data in the low-level h5py datasets on disk matches the data we expect."
   ]
  },
  {
   "cell_type": "code",
   "execution_count": 20,
   "metadata": {},
   "outputs": [
    {
     "name": "stdout",
     "output_type": "stream",
     "text": [
      "intracellular_recordings\n"
     ]
    },
    {
     "data": {
      "text/html": [
       "<div>\n",
       "<style scoped>\n",
       "    .dataframe tbody tr th:only-of-type {\n",
       "        vertical-align: middle;\n",
       "    }\n",
       "\n",
       "    .dataframe tbody tr th {\n",
       "        vertical-align: top;\n",
       "    }\n",
       "\n",
       "    .dataframe thead th {\n",
       "        text-align: right;\n",
       "    }\n",
       "</style>\n",
       "<table border=\"1\" class=\"dataframe\">\n",
       "  <thead>\n",
       "    <tr style=\"text-align: right;\">\n",
       "      <th></th>\n",
       "      <th>stimulus</th>\n",
       "      <th>response</th>\n",
       "      <th>electrode</th>\n",
       "    </tr>\n",
       "    <tr>\n",
       "      <th>id</th>\n",
       "      <th></th>\n",
       "      <th></th>\n",
       "      <th></th>\n",
       "    </tr>\n",
       "  </thead>\n",
       "  <tbody>\n",
       "    <tr>\n",
       "      <th>10</th>\n",
       "      <td>(0, 5, ccss pynwb.icephys.CurrentClampStimulus...</td>\n",
       "      <td>(0, 5, vcs pynwb.icephys.VoltageClampSeries at...</td>\n",
       "      <td>elec0 pynwb.icephys.IntracellularElectrode at ...</td>\n",
       "    </tr>\n",
       "  </tbody>\n",
       "</table>\n",
       "</div>"
      ],
      "text/plain": [
       "                                             stimulus  \\\n",
       "id                                                      \n",
       "10  (0, 5, ccss pynwb.icephys.CurrentClampStimulus...   \n",
       "\n",
       "                                             response  \\\n",
       "id                                                      \n",
       "10  (0, 5, vcs pynwb.icephys.VoltageClampSeries at...   \n",
       "\n",
       "                                            electrode  \n",
       "id                                                     \n",
       "10  elec0 pynwb.icephys.IntracellularElectrode at ...  "
      ]
     },
     "metadata": {},
     "output_type": "display_data"
    },
    {
     "name": "stdout",
     "output_type": "stream",
     "text": [
      "sweeps\n"
     ]
    },
    {
     "data": {
      "text/html": [
       "<div>\n",
       "<style scoped>\n",
       "    .dataframe tbody tr th:only-of-type {\n",
       "        vertical-align: middle;\n",
       "    }\n",
       "\n",
       "    .dataframe tbody tr th {\n",
       "        vertical-align: top;\n",
       "    }\n",
       "\n",
       "    .dataframe thead th {\n",
       "        text-align: right;\n",
       "    }\n",
       "</style>\n",
       "<table border=\"1\" class=\"dataframe\">\n",
       "  <thead>\n",
       "    <tr style=\"text-align: right;\">\n",
       "      <th></th>\n",
       "      <th>recordings</th>\n",
       "    </tr>\n",
       "    <tr>\n",
       "      <th>id</th>\n",
       "      <th></th>\n",
       "    </tr>\n",
       "  </thead>\n",
       "  <tbody>\n",
       "    <tr>\n",
       "      <th>12</th>\n",
       "      <td>s...</td>\n",
       "    </tr>\n",
       "  </tbody>\n",
       "</table>\n",
       "</div>"
      ],
      "text/plain": [
       "                                           recordings\n",
       "id                                                   \n",
       "12                                               s..."
      ]
     },
     "metadata": {},
     "output_type": "display_data"
    },
    {
     "name": "stdout",
     "output_type": "stream",
     "text": [
      "sweep_sequences\n"
     ]
    },
    {
     "data": {
      "text/html": [
       "<div>\n",
       "<style scoped>\n",
       "    .dataframe tbody tr th:only-of-type {\n",
       "        vertical-align: middle;\n",
       "    }\n",
       "\n",
       "    .dataframe tbody tr th {\n",
       "        vertical-align: top;\n",
       "    }\n",
       "\n",
       "    .dataframe thead th {\n",
       "        text-align: right;\n",
       "    }\n",
       "</style>\n",
       "<table border=\"1\" class=\"dataframe\">\n",
       "  <thead>\n",
       "    <tr style=\"text-align: right;\">\n",
       "      <th></th>\n",
       "      <th>sweeps</th>\n",
       "    </tr>\n",
       "    <tr>\n",
       "      <th>id</th>\n",
       "      <th></th>\n",
       "    </tr>\n",
       "  </thead>\n",
       "  <tbody>\n",
       "    <tr>\n",
       "      <th>15</th>\n",
       "      <td>rec...</td>\n",
       "    </tr>\n",
       "  </tbody>\n",
       "</table>\n",
       "</div>"
      ],
      "text/plain": [
       "                                               sweeps\n",
       "id                                                   \n",
       "15                                             rec..."
      ]
     },
     "metadata": {},
     "output_type": "display_data"
    },
    {
     "name": "stdout",
     "output_type": "stream",
     "text": [
      "runs\n"
     ]
    },
    {
     "data": {
      "text/html": [
       "<div>\n",
       "<style scoped>\n",
       "    .dataframe tbody tr th:only-of-type {\n",
       "        vertical-align: middle;\n",
       "    }\n",
       "\n",
       "    .dataframe tbody tr th {\n",
       "        vertical-align: top;\n",
       "    }\n",
       "\n",
       "    .dataframe thead th {\n",
       "        text-align: right;\n",
       "    }\n",
       "</style>\n",
       "<table border=\"1\" class=\"dataframe\">\n",
       "  <thead>\n",
       "    <tr style=\"text-align: right;\">\n",
       "      <th></th>\n",
       "      <th>sweep_sequences</th>\n",
       "    </tr>\n",
       "    <tr>\n",
       "      <th>id</th>\n",
       "      <th></th>\n",
       "    </tr>\n",
       "  </thead>\n",
       "  <tbody>\n",
       "    <tr>\n",
       "      <th>17</th>\n",
       "      <td>...</td>\n",
       "    </tr>\n",
       "  </tbody>\n",
       "</table>\n",
       "</div>"
      ],
      "text/plain": [
       "                                      sweep_sequences\n",
       "id                                                   \n",
       "17                                                ..."
      ]
     },
     "metadata": {},
     "output_type": "display_data"
    },
    {
     "name": "stdout",
     "output_type": "stream",
     "text": [
      "conditions\n"
     ]
    },
    {
     "data": {
      "text/html": [
       "<div>\n",
       "<style scoped>\n",
       "    .dataframe tbody tr th:only-of-type {\n",
       "        vertical-align: middle;\n",
       "    }\n",
       "\n",
       "    .dataframe tbody tr th {\n",
       "        vertical-align: top;\n",
       "    }\n",
       "\n",
       "    .dataframe thead th {\n",
       "        text-align: right;\n",
       "    }\n",
       "</style>\n",
       "<table border=\"1\" class=\"dataframe\">\n",
       "  <thead>\n",
       "    <tr style=\"text-align: right;\">\n",
       "      <th></th>\n",
       "      <th>runs</th>\n",
       "      <th>tag</th>\n",
       "    </tr>\n",
       "    <tr>\n",
       "      <th>id</th>\n",
       "      <th></th>\n",
       "      <th></th>\n",
       "    </tr>\n",
       "  </thead>\n",
       "  <tbody>\n",
       "    <tr>\n",
       "      <th>19</th>\n",
       "      <td>sweep_se...</td>\n",
       "      <td>0</td>\n",
       "    </tr>\n",
       "    <tr>\n",
       "      <th>21</th>\n",
       "      <td>sweep_se...</td>\n",
       "      <td>3</td>\n",
       "    </tr>\n",
       "  </tbody>\n",
       "</table>\n",
       "</div>"
      ],
      "text/plain": [
       "                                                 runs  tag\n",
       "id                                                        \n",
       "19                                        sweep_se...    0\n",
       "21                                        sweep_se...    3"
      ]
     },
     "metadata": {},
     "output_type": "display_data"
    },
    {
     "name": "stdout",
     "output_type": "stream",
     "text": [
      "All Metadata\n"
     ]
    },
    {
     "data": {
      "text/html": [
       "<div>\n",
       "<style scoped>\n",
       "    .dataframe tbody tr th:only-of-type {\n",
       "        vertical-align: middle;\n",
       "    }\n",
       "\n",
       "    .dataframe tbody tr th {\n",
       "        vertical-align: top;\n",
       "    }\n",
       "\n",
       "    .dataframe thead tr th {\n",
       "        text-align: left;\n",
       "    }\n",
       "\n",
       "    .dataframe thead tr:last-of-type th {\n",
       "        text-align: right;\n",
       "    }\n",
       "</style>\n",
       "<table border=\"1\" class=\"dataframe\">\n",
       "  <thead>\n",
       "    <tr>\n",
       "      <th></th>\n",
       "      <th></th>\n",
       "      <th></th>\n",
       "      <th></th>\n",
       "      <th>source_table</th>\n",
       "      <th colspan=\"4\" halign=\"left\">intracellular_recordings</th>\n",
       "    </tr>\n",
       "    <tr>\n",
       "      <th></th>\n",
       "      <th></th>\n",
       "      <th></th>\n",
       "      <th></th>\n",
       "      <th>label</th>\n",
       "      <th>id</th>\n",
       "      <th>stimulus</th>\n",
       "      <th>response</th>\n",
       "      <th>electrode</th>\n",
       "    </tr>\n",
       "    <tr>\n",
       "      <th>conditions_id</th>\n",
       "      <th>conditions_tag</th>\n",
       "      <th>runs_id</th>\n",
       "      <th>sweep_sequences_id</th>\n",
       "      <th>sweeps_id</th>\n",
       "      <th></th>\n",
       "      <th></th>\n",
       "      <th></th>\n",
       "      <th></th>\n",
       "    </tr>\n",
       "  </thead>\n",
       "  <tbody>\n",
       "    <tr>\n",
       "      <th>19</th>\n",
       "      <th>0</th>\n",
       "      <th>17</th>\n",
       "      <th>15</th>\n",
       "      <th>12</th>\n",
       "      <td>10</td>\n",
       "      <td>[0, 5, ccss pynwb.icephys.CurrentClampStimulus...</td>\n",
       "      <td>[0, 5, vcs pynwb.icephys.VoltageClampSeries at...</td>\n",
       "      <td>elec0 pynwb.icephys.IntracellularElectrode at ...</td>\n",
       "    </tr>\n",
       "    <tr>\n",
       "      <th>21</th>\n",
       "      <th>3</th>\n",
       "      <th>17</th>\n",
       "      <th>15</th>\n",
       "      <th>12</th>\n",
       "      <td>10</td>\n",
       "      <td>[0, 5, ccss pynwb.icephys.CurrentClampStimulus...</td>\n",
       "      <td>[0, 5, vcs pynwb.icephys.VoltageClampSeries at...</td>\n",
       "      <td>elec0 pynwb.icephys.IntracellularElectrode at ...</td>\n",
       "    </tr>\n",
       "  </tbody>\n",
       "</table>\n",
       "</div>"
      ],
      "text/plain": [
       "source_table                                                      intracellular_recordings  \\\n",
       "label                                                                                   id   \n",
       "conditions_id conditions_tag runs_id sweep_sequences_id sweeps_id                            \n",
       "19            0              17      15                 12                              10   \n",
       "21            3              17      15                 12                              10   \n",
       "\n",
       "source_table                                                                                                          \\\n",
       "label                                                                                                       stimulus   \n",
       "conditions_id conditions_tag runs_id sweep_sequences_id sweeps_id                                                      \n",
       "19            0              17      15                 12         [0, 5, ccss pynwb.icephys.CurrentClampStimulus...   \n",
       "21            3              17      15                 12         [0, 5, ccss pynwb.icephys.CurrentClampStimulus...   \n",
       "\n",
       "source_table                                                                                                          \\\n",
       "label                                                                                                       response   \n",
       "conditions_id conditions_tag runs_id sweep_sequences_id sweeps_id                                                      \n",
       "19            0              17      15                 12         [0, 5, vcs pynwb.icephys.VoltageClampSeries at...   \n",
       "21            3              17      15                 12         [0, 5, vcs pynwb.icephys.VoltageClampSeries at...   \n",
       "\n",
       "source_table                                                                                                          \n",
       "label                                                                                                      electrode  \n",
       "conditions_id conditions_tag runs_id sweep_sequences_id sweeps_id                                                     \n",
       "19            0              17      15                 12         elec0 pynwb.icephys.IntracellularElectrode at ...  \n",
       "21            3              17      15                 12         elec0 pynwb.icephys.IntracellularElectrode at ...  "
      ]
     },
     "metadata": {},
     "output_type": "display_data"
    }
   ],
   "source": [
    "# Read the data back in\n",
    "with NWBHDF5IO(testpath, 'r') as io:\n",
    "    infile = io.read() \n",
    "   \n",
    "    # assert intracellular_recordings\n",
    "    assert np.all(infile.intracellular_recordings.id[:] == nwbfile.intracellular_recordings.id[:])\n",
    "   \n",
    "    # Assert that the ids and the VectorData, VectorIndex, and table target of the recordings column of the Sweeps table are correct\n",
    "    assert np.all(infile.ic_sweeps.id[:] == nwbfile.ic_sweeps.id[:])\n",
    "    assert np.all(infile.ic_sweeps['recordings'].target.data[:] == nwbfile.ic_sweeps['recordings'].target.data[:])\n",
    "    assert np.all(infile.ic_sweeps['recordings'] .data[:] == nwbfile.ic_sweeps['recordings'].data[:])\n",
    "    assert infile.ic_sweeps['recordings'].target.table.name == nwbfile.ic_sweeps['recordings'].target.table.name \n",
    "    \n",
    "    # Assert that the ids and the VectorData, VectorIndex, and table target of the sweeps column of the SweepSequences table are correct\n",
    "    assert np.all(infile.ic_sweep_sequences.id[:] == nwbfile.ic_sweep_sequences.id[:])\n",
    "    assert np.all(infile.ic_sweep_sequences['sweeps'].target.data[:] == nwbfile.ic_sweep_sequences['sweeps'].target.data[:])\n",
    "    assert np.all(infile.ic_sweep_sequences['sweeps'].data[:] == nwbfile.ic_sweep_sequences['sweeps'].data[:])\n",
    "    assert infile.ic_sweep_sequences['sweeps'].target.table.name == nwbfile.ic_sweep_sequences['sweeps'].target.table.name \n",
    "    \n",
    "    # Assert that the ids and the VectorData, VectorIndex, and table target of the sweep_sequences column of the Runs table are correct\n",
    "    assert np.all(infile.ic_runs.id[:] == nwbfile.ic_runs.id[:])\n",
    "    assert np.all(infile.ic_runs['sweep_sequences'].target.data[:] == nwbfile.ic_runs['sweep_sequences'].target.data[:])\n",
    "    assert np.all(infile.ic_runs['sweep_sequences'] .data[:] == nwbfile.ic_runs['sweep_sequences'].data[:])\n",
    "    assert infile.ic_runs['sweep_sequences'].target.table.name == nwbfile.ic_runs['sweep_sequences'].target.table.name \n",
    "    \n",
    "    # Assert that the ids and the VectorData, VectorIndex, and table target of the runs column of the Conditions table are correct\n",
    "    assert np.all(infile.ic_conditions.id[:] == nwbfile.ic_conditions.id[:])\n",
    "    assert np.all(infile.ic_conditions['runs'].target.data[:] == nwbfile.ic_conditions['runs'].target.data[:])\n",
    "    assert np.all(infile.ic_conditions['runs'] .data[:] == nwbfile.ic_conditions['runs'].data[:])\n",
    "    assert infile.ic_conditions['runs'].target.table.name == nwbfile.ic_conditions['runs'].target.table.name \n",
    "    assert np.all(infile.ic_conditions['tag'][:] == nwbfile.ic_conditions['tag'][:])\n",
    "    \n",
    "    # Show all the tables for visual validation\n",
    "    print(infile.intracellular_recordings.name)\n",
    "    display(infile.intracellular_recordings.to_dataframe())\n",
    "    print(infile.ic_sweeps.name)\n",
    "    display(infile.ic_sweeps.to_dataframe())\n",
    "    print(infile.ic_sweep_sequences.name)\n",
    "    display(infile.ic_sweep_sequences.to_dataframe())\n",
    "    print(infile.ic_runs.name)\n",
    "    display(infile.ic_runs.to_dataframe())\n",
    "    print(infile.ic_conditions.name)\n",
    "    display(infile.ic_conditions.to_dataframe())\n",
    "    print('All Metadata')\n",
    "    display(infile.ic_conditions.to_hierarchical_dataframe())"
   ]
  },
  {
   "cell_type": "code",
   "execution_count": null,
   "metadata": {},
   "outputs": [],
   "source": []
  },
  {
   "cell_type": "code",
   "execution_count": null,
   "metadata": {},
   "outputs": [],
   "source": []
  }
 ],
 "metadata": {
  "kernelspec": {
   "display_name": "Python 3",
   "language": "python",
   "name": "python3"
  },
  "language_info": {
   "codemirror_mode": {
    "name": "ipython",
    "version": 3
   },
   "file_extension": ".py",
   "mimetype": "text/x-python",
   "name": "python",
   "nbconvert_exporter": "python",
   "pygments_lexer": "ipython3",
   "version": "3.7.4"
  }
 },
 "nbformat": 4,
 "nbformat_minor": 4
}
