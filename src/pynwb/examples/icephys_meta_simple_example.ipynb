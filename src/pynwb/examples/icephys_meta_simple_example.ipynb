{
 "cells": [
  {
   "cell_type": "markdown",
   "metadata": {},
   "source": [
    "# 1. Introduction\n",
    "\n",
    "The ndx-icephys-meta extension at https://github.com/oruebel/ndx-icephys-meta defines 5 new main tables for organizing ICEphys metadata:\n",
    "\n",
    "* IntracellularRecordings,\n",
    "* SimultaneousRecordingsTable,\n",
    "* SequentialRecordingsTable,\n",
    "* RepetitionsTable,\n",
    "* ExperimentalConditionsTable\n",
    "\n",
    "To make these more easily accesible and to allow us to store the tables in ``/general/intracellular__ephys`` in the NWBFile, the extension also extends NWBFile itself via the new type:\n",
    "* ICEphysFile\n",
    "\n",
    "ICEphysFile makes all 5 tables accesible via corresponding properties, manages creation of the tables, and provides convenienc functions for populating the tables. In addition, ICEphysFile also declares SweepTable as deprecated in the schema and adds warnings if SweepTable is being used.\n",
    "\n",
    "**Note:** Upon merging of this proposal with the NWB core, the ``ICEphysFile`` neurodata_type would be removed and NWBFile updated accordingly instead. "
   ]
  },
  {
   "cell_type": "code",
   "execution_count": 1,
   "metadata": {},
   "outputs": [],
   "source": [
    "# Standard Python imports\n",
    "from datetime import datetime\n",
    "from dateutil.tz import tzlocal\n",
    "import numpy as np"
   ]
  },
  {
   "cell_type": "code",
   "execution_count": 2,
   "metadata": {},
   "outputs": [],
   "source": [
    "# Standard PyNWB imports\n",
    "from pynwb.icephys import VoltageClampStimulusSeries, VoltageClampSeries\n",
    "from pynwb import NWBHDF5IO"
   ]
  },
  {
   "cell_type": "code",
   "execution_count": 3,
   "metadata": {},
   "outputs": [],
   "source": [
    "# Imports needed from the ndx-icephys-meta\n",
    "from ndx_icephys_meta.icephys import ICEphysFile"
   ]
  },
  {
   "cell_type": "markdown",
   "metadata": {},
   "source": [
    "# 2. Create a basic NWB File for testing\n",
    "\n",
    "**The following parts of the code are for basic setup only and are unchanged from what is in the Voltage NWB release**"
   ]
  },
  {
   "cell_type": "code",
   "execution_count": 4,
   "metadata": {},
   "outputs": [],
   "source": [
    "# Create the file\n",
    "nwbfile = ICEphysFile(\n",
    "            session_description='my first synthetic recording',\n",
    "            identifier='EXAMPLE_ID',\n",
    "            session_start_time=datetime.now(tzlocal()),\n",
    "            experimenter='Dr. Bilbo Baggins',\n",
    "            lab='Bag End Laboratory',\n",
    "            institution='University of Middle Earth at the Shire',\n",
    "            experiment_description='I went on an adventure with thirteen dwarves to reclaim vast treasures.',\n",
    "            session_id='LONELYMTN')\n",
    "# Add a device\n",
    "device = nwbfile.create_device(name='Heka ITC-1600')\n",
    "# Add an intracellular electrode\n",
    "electrode = nwbfile.create_icephys_electrode(name=\"elec0\",\n",
    "                                        description='a mock intracellular electrode',\n",
    "                                        device=device)\n",
    "# Create an ic-ephys stimulus\n",
    "stimulus = VoltageClampStimulusSeries(\n",
    "            name=\"ccss\",\n",
    "            data=[1, 2, 3, 4, 5],\n",
    "            starting_time=123.6,\n",
    "            rate=10e3,\n",
    "            electrode=electrode,\n",
    "            gain=0.02,\n",
    "            sweep_number=np.uint64(15))\n",
    "# Create and ic-response\n",
    "response = VoltageClampSeries(\n",
    "            name='vcs',\n",
    "            data=[0.1, 0.2, 0.3, 0.4, 0.5],\n",
    "            conversion=1e-12,\n",
    "            resolution=np.nan,\n",
    "            starting_time=123.6,\n",
    "            rate=20e3,\n",
    "            electrode=electrode,\n",
    "            gain=0.02,\n",
    "            capacitance_slow=100e-12,\n",
    "            resistance_comp_correction=70.0,\n",
    "            sweep_number=np.uint64(15))"
   ]
  },
  {
   "cell_type": "markdown",
   "metadata": {},
   "source": [
    "In the Voltage workflow, we would now add our response and stimulus to the file via:\n",
    "\n",
    "```\n",
    "nwbfile.add_stimulus(stimulus)\n",
    "nwbfile.add_acquisition(response)\n",
    "```\n",
    "\n",
    "This workflow is still fine, but when using the new metadata tables, we don't have to do this, because the ``add_intracellular_recording`` function will add them to the NWBFile for us if they are not already part of it, so we can skip this step."
   ]
  },
  {
   "cell_type": "markdown",
   "metadata": {},
   "source": [
    "# 3. Construct our Intracellular Electrophysiolgy Metadata tables\n",
    "\n",
    "**The parts in this section are what consitutes the new elements from this proposal.**"
   ]
  },
  {
   "cell_type": "markdown",
   "metadata": {},
   "source": [
    "### 3.1 Add an intracelluar recording\n",
    "Add a intracellular recording consisting of and electrode, stimulus, and reponse. Optionally, the user may set the ``id`` field for the recording. "
   ]
  },
  {
   "cell_type": "code",
   "execution_count": 5,
   "metadata": {},
   "outputs": [],
   "source": [
    "rowindex = nwbfile.add_intracellular_recording(electrode=electrode,\n",
    "                                               stimulus=stimulus,\n",
    "                                               response=response,\n",
    "                                               id=10)"
   ]
  },
  {
   "cell_type": "markdown",
   "metadata": {},
   "source": [
    "**Note:** Any time we add a row to one of our tables, the corresponding add function returns the integer index of the newly created row. The rowindex is used in subsequent tables that reference rows in our table.\n",
    "\n",
    "**Note:** If the ``id`` is omitted then PyNWB will automatically number recordings in sequences (i.e., id is the same as the row number).\n",
    "\n",
    "**Note:** The IntracellularRecordings table is optional and will be created automatically by ICEphysFile the first time the table is being modified. \n",
    "\n",
    "**Note:** If the given electrode, stimulus, or response are not part of the nwbfile object, then they will be automatically added to it here.\n",
    "\n",
    "**Note** The IntracellularRecordigns, SimultaneousRecordings, SequentialRecordingsTable, RepetitionsTable and ExperimentalConditionsTable tables all enforce unique ids when adding rows. I.e., adding an intracellular recording with the same id results in an error, e.g.,:"
   ]
  },
  {
   "cell_type": "code",
   "execution_count": 6,
   "metadata": {},
   "outputs": [
    {
     "name": "stdout",
     "output_type": "stream",
     "text": [
      "ValueError raised with message: 'id 10 already in the table' \n"
     ]
    }
   ],
   "source": [
    "try:\n",
    "    nwbfile.add_intracellular_recording(electrode=electrode,\n",
    "                                        stimulus=stimulus,\n",
    "                                        response=response,\n",
    "                                        id=10)\n",
    "except ValueError as e:\n",
    "    print(\"ValueError raised with message: '%s' \"  % str(e))"
   ]
  },
  {
   "cell_type": "markdown",
   "metadata": {},
   "source": [
    "**Note** We may optionaly also specify the relevant time range for a stimulus and/or response as part of the intracellular_recording. This is useful, e.g., in case where the recording of the stimulus and response do not align (e.g., in case that recording o the response started before the recording of the stimulus)."
   ]
  },
  {
   "cell_type": "code",
   "execution_count": 7,
   "metadata": {},
   "outputs": [],
   "source": [
    "rowindex2 = nwbfile.add_intracellular_recording(electrode=electrode,\n",
    "                                                stimulus=stimulus,\n",
    "                                                stimulus_start_index=1,\n",
    "                                                stimulus_index_count=3,\n",
    "                                                response=response,\n",
    "                                                response_start_index=2,\n",
    "                                                response_index_count=3,\n",
    "                                                id=11)"
   ]
  },
  {
   "cell_type": "markdown",
   "metadata": {},
   "source": [
    "**Note:** A recording may optionally also consist of just an ``electrode`` and ``stimulus`` or ``electrode`` and ``response``, but at least one of ``stimulus`` or ``response`` are required. If either ``stimulus`` or ``response`` are missing, then the ``stimulus`` and ``response`` are internally set ot the same ``TimeSeries`` and the ``start_index`` and ``index_count`` for the missing parameter are set to ``-1``."
   ]
  },
  {
   "cell_type": "code",
   "execution_count": 8,
   "metadata": {},
   "outputs": [],
   "source": [
    "rowindex3 = nwbfile.add_intracellular_recording(electrode=electrode,\n",
    "                                                response=response,\n",
    "                                                id=12)"
   ]
  },
  {
   "cell_type": "markdown",
   "metadata": {},
   "source": [
    "**WARNING** For brevity we reused in the above example the same ``response`` and ``stimulus`` in all rows of the ``intracellular_recordings``. While this is allowed, in most practical cases the ``stimulus`` and ``response`` will change between ``intracellular_recordings``."
   ]
  },
  {
   "cell_type": "markdown",
   "metadata": {},
   "source": [
    "### 3.2 Add a simultaneous recording\n",
    "\n",
    "Before adding a simultaneous recording in Section 3.2.2, we'll take a brief discource to illustrate how we can add custom columns to tables before (see Section 3.2.1) and after (see Section 3.2.3) we have populated the table with data. "
   ]
  },
  {
   "cell_type": "markdown",
   "metadata": {},
   "source": [
    "#### 3.2.1 Define a custom column for a simultaneous recording before populating the table \n",
    "\n",
    "Before we add a simultaneous recording, lets create a custom data column in our ``Sweeps`` table. We can create columns at the beginning (i.e., before we populate the table with rows/data) or we can add columns after we have already populated the table with rows. Here we will show the former. For this, we first need to get access to our table. "
   ]
  },
  {
   "cell_type": "code",
   "execution_count": 9,
   "metadata": {},
   "outputs": [
    {
     "name": "stdout",
     "output_type": "stream",
     "text": [
      "None\n"
     ]
    }
   ],
   "source": [
    "print(nwbfile.icephys_simultaneous_recordings)"
   ]
  },
  {
   "cell_type": "markdown",
   "metadata": {},
   "source": [
    "The Sweeps table is options, and since we have not populated it with any data yet, we can see that the Sweeps table does not actually exist yet. In order to make sure the table is being created we can use the ``get_icephys_simultaneous_recordings()`` instead, which makes sure that the table is being created if it does not exist yet."
   ]
  },
  {
   "cell_type": "code",
   "execution_count": 10,
   "metadata": {},
   "outputs": [],
   "source": [
    "icephys_simultaneous_recordings = nwbfile.get_icephys_simultaneous_recordings()\n",
    "icephys_simultaneous_recordings.add_column(name='simultaneous_recording_tag', description='A custom tag for simultaneous_recordings')"
   ]
  },
  {
   "cell_type": "markdown",
   "metadata": {},
   "source": [
    "As we can see, we now have succesfully created a new custom column. "
   ]
  },
  {
   "cell_type": "code",
   "execution_count": 11,
   "metadata": {},
   "outputs": [
    {
     "name": "stdout",
     "output_type": "stream",
     "text": [
      "('recordings', 'simultaneous_recording_tag')\n"
     ]
    }
   ],
   "source": [
    "print(icephys_simultaneous_recordings.colnames)"
   ]
  },
  {
   "cell_type": "markdown",
   "metadata": {},
   "source": [
    "**Note:** The same process applies to all our other tables as well. Here we use the corresponding ``get_intracelluar_recordings``, ``get_icephys_sequential_recordings``, ``get_icephys_repetitions`` and ``get_icephys_conditions`` functions intead. In general, we can alwasy use the get functions instead of accessing the property of the file."
   ]
  },
  {
   "cell_type": "markdown",
   "metadata": {},
   "source": [
    "#### 3.2.2 Add a simultaneous recording\n",
    "Add a single simultaneous recording consisting of a set of intracellular recordings. Again, setting the ``id`` for a simultaneous recording is optional. Also this table is optional and will be created automatically by ICEphysFile. The ``recordings`` argument of the ``add_simultaneous_recording`` function here is simply a list of ints with the indices of the correspondign rows in the IntracellularRecordings table.\n",
    "\n",
    "**Note:** Since we created our custom ``simultaneous_recording_tag`` column earlier we now also need to populate this custom field for every row we add to the ``Sweeps`` table."
   ]
  },
  {
   "cell_type": "code",
   "execution_count": 12,
   "metadata": {},
   "outputs": [],
   "source": [
    "rowindex = nwbfile.add_icephys_simultaneous_recording(recordings=[rowindex, rowindex2, rowindex3], \n",
    "                                     id=12, \n",
    "                                     simultaneous_recording_tag='LabTag1')"
   ]
  },
  {
   "cell_type": "markdown",
   "metadata": {},
   "source": [
    "**Note** The `recordings`` argument is the list of indicies of the rows in our intracellular recordings table that we want to reference. The indices are determined by the order in which added the elements to the table. \n",
    "\n",
    "If we don't know the row indicies, but only the id's of the intracellular recordings that we want to reference, then we can search for the id's as follows:"
   ]
  },
  {
   "cell_type": "code",
   "execution_count": 13,
   "metadata": {},
   "outputs": [
    {
     "name": "stdout",
     "output_type": "stream",
     "text": [
      "[0]\n"
     ]
    }
   ],
   "source": [
    "row_indicies = (nwbfile.intracellular_recordings.id == [10,])\n",
    "print(row_indicies)"
   ]
  },
  {
   "cell_type": "markdown",
   "metadata": {},
   "source": [
    "**Note:** The same is true for our other tables as well, i.e., referencing is done by indices of rows (NOT ids). If we only know ids we can search for them in the same manner on the other tables as well, e.g,. ```nwbfile.simultaneous_recordings == 15```. In the search we can use a list of integer ids or a single it. "
   ]
  },
  {
   "cell_type": "markdown",
   "metadata": {},
   "source": [
    "#### 3.2.3 Define a custom column for a simultaneous recording after adding rows\n",
    "\n",
    "Depending on the lab workflow, it may be useful to add complete columns to a table (here ``Sweeps``) after we have already populated the table with rows. We can do this the same way as before, only now we need to provide a data array to populate the values for the existing rows. E.g.:"
   ]
  },
  {
   "cell_type": "code",
   "execution_count": 14,
   "metadata": {},
   "outputs": [],
   "source": [
    "nwbfile.icephys_simultaneous_recordings.add_column(name='simultaneous_recording_type', description='Description of the type of simultaneous_recording', data=['SweepType1', ])"
   ]
  },
  {
   "cell_type": "markdown",
   "metadata": {},
   "source": [
    "### 3.3 Add a sequential recording\n",
    "Add a single sequential recording consisting of a set of simultaneous recordings. Again, setting the ``id`` for a sequential recording is optional. Also this table is optional and will be created automatically by ICEphysFile. The ``simultaneous recordings`` argument of the ``add_sequential_recording`` function here is simply a list of ints with the indices of the correspondign rows in the Sweeps table."
   ]
  },
  {
   "cell_type": "code",
   "execution_count": 15,
   "metadata": {},
   "outputs": [],
   "source": [
    "rowindex = nwbfile.add_icephys_sequential_recording(simultaneous_recordings=[0], stimulus_type='square', id=15)"
   ]
  },
  {
   "cell_type": "markdown",
   "metadata": {},
   "source": [
    "### 3.4 Add a repetition\n",
    "Add a single repetition consisting of a set of sequential recordings. Again, setting the ``id`` for a repetition is optional. Also this table is optional and will be created automatically by ICEphysFile. The ``sequential_recordings`` argument of the ``add_sequential_recording`` function here is simply a list of ints with the indices of the correspondign rows in the Sweeps table."
   ]
  },
  {
   "cell_type": "code",
   "execution_count": 16,
   "metadata": {},
   "outputs": [],
   "source": [
    "rowindex = nwbfile.add_icephys_repetition(sequential_recordings=[0], id=17)"
   ]
  },
  {
   "cell_type": "markdown",
   "metadata": {},
   "source": [
    "### 3.5 Add a condition\n",
    "Add a single condition consisting of a set of repetitions. Again, setting the ``id`` for a condition is optional. Also this table is optional and will be created automatically by ICEphysFile. The ``repetitions`` argument of the ``add_icephys_condition`` function here is simply a list of ints with the indices of the correspondign rows in the Runs table."
   ]
  },
  {
   "cell_type": "code",
   "execution_count": 17,
   "metadata": {},
   "outputs": [],
   "source": [
    "rowindex = nwbfile.add_icephys_experimental_condition(repetitions=[0], id=19)"
   ]
  },
  {
   "cell_type": "markdown",
   "metadata": {},
   "source": [
    "To add additonal columns to any of the tables, we can use the``.add_column`` function on the corresponding table after they have been created. We can then also add new items with the new column values."
   ]
  },
  {
   "cell_type": "code",
   "execution_count": 18,
   "metadata": {},
   "outputs": [],
   "source": [
    "nwbfile.icephys_experimental_conditions.add_column(name='tag', data=np.arange(1), description='integer tag for a experimental condition')\n",
    "rowindex = nwbfile.add_icephys_experimental_condition(repetitions=[0], id=21, tag=3)"
   ]
  },
  {
   "cell_type": "markdown",
   "metadata": {},
   "source": [
    "# 4. Accessing the tables\n",
    "\n",
    "All icephys metadata tables are available as attributes on the nwbfile. The following simply plots the tables to show their content."
   ]
  },
  {
   "cell_type": "code",
   "execution_count": 19,
   "metadata": {},
   "outputs": [
    {
     "data": {
      "text/html": [
       "<div>\n",
       "<style scoped>\n",
       "    .dataframe tbody tr th:only-of-type {\n",
       "        vertical-align: middle;\n",
       "    }\n",
       "\n",
       "    .dataframe tbody tr th {\n",
       "        vertical-align: top;\n",
       "    }\n",
       "\n",
       "    .dataframe thead th {\n",
       "        text-align: right;\n",
       "    }\n",
       "</style>\n",
       "<table border=\"1\" class=\"dataframe\">\n",
       "  <thead>\n",
       "    <tr style=\"text-align: right;\">\n",
       "      <th></th>\n",
       "      <th>stimulus</th>\n",
       "      <th>response</th>\n",
       "      <th>electrode</th>\n",
       "    </tr>\n",
       "    <tr>\n",
       "      <th>id</th>\n",
       "      <th></th>\n",
       "      <th></th>\n",
       "      <th></th>\n",
       "    </tr>\n",
       "  </thead>\n",
       "  <tbody>\n",
       "    <tr>\n",
       "      <th>10</th>\n",
       "      <td>(0, 5, ccss pynwb.icephys.VoltageClampStimulus...</td>\n",
       "      <td>(0, 5, vcs pynwb.icephys.VoltageClampSeries at...</td>\n",
       "      <td>elec0 pynwb.icephys.IntracellularElectrode at ...</td>\n",
       "    </tr>\n",
       "    <tr>\n",
       "      <th>11</th>\n",
       "      <td>(1, 3, ccss pynwb.icephys.VoltageClampStimulus...</td>\n",
       "      <td>(2, 3, vcs pynwb.icephys.VoltageClampSeries at...</td>\n",
       "      <td>elec0 pynwb.icephys.IntracellularElectrode at ...</td>\n",
       "    </tr>\n",
       "    <tr>\n",
       "      <th>12</th>\n",
       "      <td>(-1, -1, vcs pynwb.icephys.VoltageClampSeries ...</td>\n",
       "      <td>(0, 5, vcs pynwb.icephys.VoltageClampSeries at...</td>\n",
       "      <td>elec0 pynwb.icephys.IntracellularElectrode at ...</td>\n",
       "    </tr>\n",
       "  </tbody>\n",
       "</table>\n",
       "</div>"
      ],
      "text/plain": [
       "                                             stimulus  \\\n",
       "id                                                      \n",
       "10  (0, 5, ccss pynwb.icephys.VoltageClampStimulus...   \n",
       "11  (1, 3, ccss pynwb.icephys.VoltageClampStimulus...   \n",
       "12  (-1, -1, vcs pynwb.icephys.VoltageClampSeries ...   \n",
       "\n",
       "                                             response  \\\n",
       "id                                                      \n",
       "10  (0, 5, vcs pynwb.icephys.VoltageClampSeries at...   \n",
       "11  (2, 3, vcs pynwb.icephys.VoltageClampSeries at...   \n",
       "12  (0, 5, vcs pynwb.icephys.VoltageClampSeries at...   \n",
       "\n",
       "                                            electrode  \n",
       "id                                                     \n",
       "10  elec0 pynwb.icephys.IntracellularElectrode at ...  \n",
       "11  elec0 pynwb.icephys.IntracellularElectrode at ...  \n",
       "12  elec0 pynwb.icephys.IntracellularElectrode at ...  "
      ]
     },
     "execution_count": 19,
     "metadata": {},
     "output_type": "execute_result"
    }
   ],
   "source": [
    "nwbfile.intracellular_recordings.to_dataframe()"
   ]
  },
  {
   "cell_type": "code",
   "execution_count": 20,
   "metadata": {},
   "outputs": [
    {
     "data": {
      "text/html": [
       "<div>\n",
       "<style scoped>\n",
       "    .dataframe tbody tr th:only-of-type {\n",
       "        vertical-align: middle;\n",
       "    }\n",
       "\n",
       "    .dataframe tbody tr th {\n",
       "        vertical-align: top;\n",
       "    }\n",
       "\n",
       "    .dataframe thead th {\n",
       "        text-align: right;\n",
       "    }\n",
       "</style>\n",
       "<table border=\"1\" class=\"dataframe\">\n",
       "  <thead>\n",
       "    <tr style=\"text-align: right;\">\n",
       "      <th></th>\n",
       "      <th>recordings</th>\n",
       "      <th>simultaneous_recording_tag</th>\n",
       "      <th>simultaneous_recording_type</th>\n",
       "    </tr>\n",
       "    <tr>\n",
       "      <th>id</th>\n",
       "      <th></th>\n",
       "      <th></th>\n",
       "      <th></th>\n",
       "    </tr>\n",
       "  </thead>\n",
       "  <tbody>\n",
       "    <tr>\n",
       "      <th>12</th>\n",
       "      <td>s...</td>\n",
       "      <td>LabTag1</td>\n",
       "      <td>SweepType1</td>\n",
       "    </tr>\n",
       "  </tbody>\n",
       "</table>\n",
       "</div>"
      ],
      "text/plain": [
       "                                           recordings  \\\n",
       "id                                                      \n",
       "12                                               s...   \n",
       "\n",
       "   simultaneous_recording_tag simultaneous_recording_type  \n",
       "id                                                         \n",
       "12                    LabTag1                  SweepType1  "
      ]
     },
     "execution_count": 20,
     "metadata": {},
     "output_type": "execute_result"
    }
   ],
   "source": [
    "nwbfile.icephys_simultaneous_recordings.to_dataframe()"
   ]
  },
  {
   "cell_type": "code",
   "execution_count": 21,
   "metadata": {},
   "outputs": [
    {
     "data": {
      "text/html": [
       "<div>\n",
       "<style scoped>\n",
       "    .dataframe tbody tr th:only-of-type {\n",
       "        vertical-align: middle;\n",
       "    }\n",
       "\n",
       "    .dataframe tbody tr th {\n",
       "        vertical-align: top;\n",
       "    }\n",
       "\n",
       "    .dataframe thead th {\n",
       "        text-align: right;\n",
       "    }\n",
       "</style>\n",
       "<table border=\"1\" class=\"dataframe\">\n",
       "  <thead>\n",
       "    <tr style=\"text-align: right;\">\n",
       "      <th></th>\n",
       "      <th>simultaneous_recordings</th>\n",
       "      <th>stimulus_type</th>\n",
       "    </tr>\n",
       "    <tr>\n",
       "      <th>id</th>\n",
       "      <th></th>\n",
       "      <th></th>\n",
       "    </tr>\n",
       "  </thead>\n",
       "  <tbody>\n",
       "    <tr>\n",
       "      <th>15</th>\n",
       "      <td>rec...</td>\n",
       "      <td>square</td>\n",
       "    </tr>\n",
       "  </tbody>\n",
       "</table>\n",
       "</div>"
      ],
      "text/plain": [
       "                              simultaneous_recordings stimulus_type\n",
       "id                                                                 \n",
       "15                                             rec...        square"
      ]
     },
     "execution_count": 21,
     "metadata": {},
     "output_type": "execute_result"
    }
   ],
   "source": [
    "nwbfile.icephys_sequential_recordings.to_dataframe()"
   ]
  },
  {
   "cell_type": "code",
   "execution_count": 22,
   "metadata": {},
   "outputs": [
    {
     "data": {
      "text/html": [
       "<div>\n",
       "<style scoped>\n",
       "    .dataframe tbody tr th:only-of-type {\n",
       "        vertical-align: middle;\n",
       "    }\n",
       "\n",
       "    .dataframe tbody tr th {\n",
       "        vertical-align: top;\n",
       "    }\n",
       "\n",
       "    .dataframe thead th {\n",
       "        text-align: right;\n",
       "    }\n",
       "</style>\n",
       "<table border=\"1\" class=\"dataframe\">\n",
       "  <thead>\n",
       "    <tr style=\"text-align: right;\">\n",
       "      <th></th>\n",
       "      <th>sequential_recordings</th>\n",
       "    </tr>\n",
       "    <tr>\n",
       "      <th>id</th>\n",
       "      <th></th>\n",
       "    </tr>\n",
       "  </thead>\n",
       "  <tbody>\n",
       "    <tr>\n",
       "      <th>17</th>\n",
       "      <td>simultaneous_rec...</td>\n",
       "    </tr>\n",
       "  </tbody>\n",
       "</table>\n",
       "</div>"
      ],
      "text/plain": [
       "                                sequential_recordings\n",
       "id                                                   \n",
       "17                                simultaneous_rec..."
      ]
     },
     "execution_count": 22,
     "metadata": {},
     "output_type": "execute_result"
    }
   ],
   "source": [
    "nwbfile.icephys_repetitions.to_dataframe()"
   ]
  },
  {
   "cell_type": "code",
   "execution_count": 23,
   "metadata": {},
   "outputs": [
    {
     "data": {
      "text/html": [
       "<div>\n",
       "<style scoped>\n",
       "    .dataframe tbody tr th:only-of-type {\n",
       "        vertical-align: middle;\n",
       "    }\n",
       "\n",
       "    .dataframe tbody tr th {\n",
       "        vertical-align: top;\n",
       "    }\n",
       "\n",
       "    .dataframe thead th {\n",
       "        text-align: right;\n",
       "    }\n",
       "</style>\n",
       "<table border=\"1\" class=\"dataframe\">\n",
       "  <thead>\n",
       "    <tr style=\"text-align: right;\">\n",
       "      <th></th>\n",
       "      <th>repetitions</th>\n",
       "      <th>tag</th>\n",
       "    </tr>\n",
       "    <tr>\n",
       "      <th>id</th>\n",
       "      <th></th>\n",
       "      <th></th>\n",
       "    </tr>\n",
       "  </thead>\n",
       "  <tbody>\n",
       "    <tr>\n",
       "      <th>19</th>\n",
       "      <td>sequential_rec...</td>\n",
       "      <td>0</td>\n",
       "    </tr>\n",
       "    <tr>\n",
       "      <th>21</th>\n",
       "      <td>sequential_rec...</td>\n",
       "      <td>3</td>\n",
       "    </tr>\n",
       "  </tbody>\n",
       "</table>\n",
       "</div>"
      ],
      "text/plain": [
       "                                          repetitions  tag\n",
       "id                                                        \n",
       "19                                  sequential_rec...    0\n",
       "21                                  sequential_rec...    3"
      ]
     },
     "execution_count": 23,
     "metadata": {},
     "output_type": "execute_result"
    }
   ],
   "source": [
    "nwbfile.icephys_experimental_conditions.to_dataframe()"
   ]
  },
  {
   "cell_type": "markdown",
   "metadata": {},
   "source": [
    "As the tables in the hierarchy are optional, a given NWBFile may contain, e.g., a ``experimental_conditions`` table. To provide a consistent interface for users, and to avoid having to manually check which tables exist in a given file to find the top-most table in the hierarchy, we provide the ``get_icephys_meta_parent_table`` function. With this we can retrieve the highest table in the icephys metadata hierarchy that actually exists in the file. For example, since we here populate all tables, ``get_icephys_meta_parent_table`` will return the ``experimental_conditions`` table."
   ]
  },
  {
   "cell_type": "code",
   "execution_count": 24,
   "metadata": {},
   "outputs": [
    {
     "name": "stdout",
     "output_type": "stream",
     "text": [
      "experimental_conditions ndx_icephys_meta.icephys.ExperimentalConditionsTable at 0x4901307024\n",
      "Fields:\n",
      "  colnames: ['repetitions' 'tag']\n",
      "  columns: (\n",
      "    repetitions_index <class 'hdmf.common.table.VectorIndex'>,\n",
      "    repetitions <class 'hdmf.common.table.DynamicTableRegion'>,\n",
      "    tag <class 'hdmf.common.table.VectorData'>\n",
      "  )\n",
      "  description: A table for grouping different intracellular recording repetitions together that belong to the same experimental experimental_conditions.\n",
      "  id: id <class 'hdmf.common.table.ElementIdentifiers'>\n",
      "\n"
     ]
    }
   ],
   "source": [
    "print(nwbfile.get_icephys_meta_parent_table())"
   ]
  },
  {
   "cell_type": "markdown",
   "metadata": {},
   "source": [
    "# 5. Read/Write the data\n",
    "\n",
    "**Read/Write of the file is unchanged from what is in the Voltage NWB release**"
   ]
  },
  {
   "cell_type": "code",
   "execution_count": 25,
   "metadata": {},
   "outputs": [],
   "source": [
    "# Write our test file\n",
    "testpath = \"test_icephys_file.h5\"\n",
    "with NWBHDF5IO(testpath, 'w') as io:\n",
    "    io.write(nwbfile)"
   ]
  },
  {
   "cell_type": "code",
   "execution_count": 26,
   "metadata": {},
   "outputs": [],
   "source": [
    "# Read the data back in\n",
    "with NWBHDF5IO(testpath, 'r') as io:\n",
    "    infile = io.read() "
   ]
  },
  {
   "cell_type": "markdown",
   "metadata": {},
   "source": [
    "# 6. Validate the file\n",
    "\n",
    "# 6.1 Confirm that the data we have written is the what we expect\n",
    "\n",
    "In the following we read the data again and do asserts to confirm that the data in the low-level h5py datasets on disk matches the data we expect."
   ]
  },
  {
   "cell_type": "code",
   "execution_count": 27,
   "metadata": {},
   "outputs": [
    {
     "name": "stdout",
     "output_type": "stream",
     "text": [
      "intracellular_recordings\n"
     ]
    },
    {
     "data": {
      "text/html": [
       "<div>\n",
       "<style scoped>\n",
       "    .dataframe tbody tr th:only-of-type {\n",
       "        vertical-align: middle;\n",
       "    }\n",
       "\n",
       "    .dataframe tbody tr th {\n",
       "        vertical-align: top;\n",
       "    }\n",
       "\n",
       "    .dataframe thead th {\n",
       "        text-align: right;\n",
       "    }\n",
       "</style>\n",
       "<table border=\"1\" class=\"dataframe\">\n",
       "  <thead>\n",
       "    <tr style=\"text-align: right;\">\n",
       "      <th></th>\n",
       "      <th>stimulus</th>\n",
       "      <th>response</th>\n",
       "      <th>electrode</th>\n",
       "    </tr>\n",
       "    <tr>\n",
       "      <th>id</th>\n",
       "      <th></th>\n",
       "      <th></th>\n",
       "      <th></th>\n",
       "    </tr>\n",
       "  </thead>\n",
       "  <tbody>\n",
       "    <tr>\n",
       "      <th>10</th>\n",
       "      <td>(0, 5, ccss pynwb.icephys.VoltageClampStimulus...</td>\n",
       "      <td>(0, 5, vcs pynwb.icephys.VoltageClampSeries at...</td>\n",
       "      <td>elec0 pynwb.icephys.IntracellularElectrode at ...</td>\n",
       "    </tr>\n",
       "    <tr>\n",
       "      <th>11</th>\n",
       "      <td>(1, 3, ccss pynwb.icephys.VoltageClampStimulus...</td>\n",
       "      <td>(2, 3, vcs pynwb.icephys.VoltageClampSeries at...</td>\n",
       "      <td>elec0 pynwb.icephys.IntracellularElectrode at ...</td>\n",
       "    </tr>\n",
       "    <tr>\n",
       "      <th>12</th>\n",
       "      <td>(-1, -1, vcs pynwb.icephys.VoltageClampSeries ...</td>\n",
       "      <td>(0, 5, vcs pynwb.icephys.VoltageClampSeries at...</td>\n",
       "      <td>elec0 pynwb.icephys.IntracellularElectrode at ...</td>\n",
       "    </tr>\n",
       "  </tbody>\n",
       "</table>\n",
       "</div>"
      ],
      "text/plain": [
       "                                             stimulus  \\\n",
       "id                                                      \n",
       "10  (0, 5, ccss pynwb.icephys.VoltageClampStimulus...   \n",
       "11  (1, 3, ccss pynwb.icephys.VoltageClampStimulus...   \n",
       "12  (-1, -1, vcs pynwb.icephys.VoltageClampSeries ...   \n",
       "\n",
       "                                             response  \\\n",
       "id                                                      \n",
       "10  (0, 5, vcs pynwb.icephys.VoltageClampSeries at...   \n",
       "11  (2, 3, vcs pynwb.icephys.VoltageClampSeries at...   \n",
       "12  (0, 5, vcs pynwb.icephys.VoltageClampSeries at...   \n",
       "\n",
       "                                            electrode  \n",
       "id                                                     \n",
       "10  elec0 pynwb.icephys.IntracellularElectrode at ...  \n",
       "11  elec0 pynwb.icephys.IntracellularElectrode at ...  \n",
       "12  elec0 pynwb.icephys.IntracellularElectrode at ...  "
      ]
     },
     "metadata": {},
     "output_type": "display_data"
    },
    {
     "name": "stdout",
     "output_type": "stream",
     "text": [
      "simultaneous_recordings\n"
     ]
    },
    {
     "data": {
      "text/html": [
       "<div>\n",
       "<style scoped>\n",
       "    .dataframe tbody tr th:only-of-type {\n",
       "        vertical-align: middle;\n",
       "    }\n",
       "\n",
       "    .dataframe tbody tr th {\n",
       "        vertical-align: top;\n",
       "    }\n",
       "\n",
       "    .dataframe thead th {\n",
       "        text-align: right;\n",
       "    }\n",
       "</style>\n",
       "<table border=\"1\" class=\"dataframe\">\n",
       "  <thead>\n",
       "    <tr style=\"text-align: right;\">\n",
       "      <th></th>\n",
       "      <th>recordings</th>\n",
       "      <th>simultaneous_recording_tag</th>\n",
       "      <th>simultaneous_recording_type</th>\n",
       "    </tr>\n",
       "    <tr>\n",
       "      <th>id</th>\n",
       "      <th></th>\n",
       "      <th></th>\n",
       "      <th></th>\n",
       "    </tr>\n",
       "  </thead>\n",
       "  <tbody>\n",
       "    <tr>\n",
       "      <th>12</th>\n",
       "      <td>s...</td>\n",
       "      <td>LabTag1</td>\n",
       "      <td>SweepType1</td>\n",
       "    </tr>\n",
       "  </tbody>\n",
       "</table>\n",
       "</div>"
      ],
      "text/plain": [
       "                                           recordings  \\\n",
       "id                                                      \n",
       "12                                               s...   \n",
       "\n",
       "   simultaneous_recording_tag simultaneous_recording_type  \n",
       "id                                                         \n",
       "12                    LabTag1                  SweepType1  "
      ]
     },
     "metadata": {},
     "output_type": "display_data"
    },
    {
     "name": "stdout",
     "output_type": "stream",
     "text": [
      "sequential_recordings\n"
     ]
    },
    {
     "data": {
      "text/html": [
       "<div>\n",
       "<style scoped>\n",
       "    .dataframe tbody tr th:only-of-type {\n",
       "        vertical-align: middle;\n",
       "    }\n",
       "\n",
       "    .dataframe tbody tr th {\n",
       "        vertical-align: top;\n",
       "    }\n",
       "\n",
       "    .dataframe thead th {\n",
       "        text-align: right;\n",
       "    }\n",
       "</style>\n",
       "<table border=\"1\" class=\"dataframe\">\n",
       "  <thead>\n",
       "    <tr style=\"text-align: right;\">\n",
       "      <th></th>\n",
       "      <th>simultaneous_recordings</th>\n",
       "      <th>stimulus_type</th>\n",
       "    </tr>\n",
       "    <tr>\n",
       "      <th>id</th>\n",
       "      <th></th>\n",
       "      <th></th>\n",
       "    </tr>\n",
       "  </thead>\n",
       "  <tbody>\n",
       "    <tr>\n",
       "      <th>15</th>\n",
       "      <td>rec...</td>\n",
       "      <td>square</td>\n",
       "    </tr>\n",
       "  </tbody>\n",
       "</table>\n",
       "</div>"
      ],
      "text/plain": [
       "                              simultaneous_recordings stimulus_type\n",
       "id                                                                 \n",
       "15                                             rec...        square"
      ]
     },
     "metadata": {},
     "output_type": "display_data"
    },
    {
     "name": "stdout",
     "output_type": "stream",
     "text": [
      "repetitions\n"
     ]
    },
    {
     "data": {
      "text/html": [
       "<div>\n",
       "<style scoped>\n",
       "    .dataframe tbody tr th:only-of-type {\n",
       "        vertical-align: middle;\n",
       "    }\n",
       "\n",
       "    .dataframe tbody tr th {\n",
       "        vertical-align: top;\n",
       "    }\n",
       "\n",
       "    .dataframe thead th {\n",
       "        text-align: right;\n",
       "    }\n",
       "</style>\n",
       "<table border=\"1\" class=\"dataframe\">\n",
       "  <thead>\n",
       "    <tr style=\"text-align: right;\">\n",
       "      <th></th>\n",
       "      <th>sequential_recordings</th>\n",
       "    </tr>\n",
       "    <tr>\n",
       "      <th>id</th>\n",
       "      <th></th>\n",
       "    </tr>\n",
       "  </thead>\n",
       "  <tbody>\n",
       "    <tr>\n",
       "      <th>17</th>\n",
       "      <td>simultaneous_rec...</td>\n",
       "    </tr>\n",
       "  </tbody>\n",
       "</table>\n",
       "</div>"
      ],
      "text/plain": [
       "                                sequential_recordings\n",
       "id                                                   \n",
       "17                                simultaneous_rec..."
      ]
     },
     "metadata": {},
     "output_type": "display_data"
    },
    {
     "name": "stdout",
     "output_type": "stream",
     "text": [
      "experimental_conditions\n"
     ]
    },
    {
     "data": {
      "text/html": [
       "<div>\n",
       "<style scoped>\n",
       "    .dataframe tbody tr th:only-of-type {\n",
       "        vertical-align: middle;\n",
       "    }\n",
       "\n",
       "    .dataframe tbody tr th {\n",
       "        vertical-align: top;\n",
       "    }\n",
       "\n",
       "    .dataframe thead th {\n",
       "        text-align: right;\n",
       "    }\n",
       "</style>\n",
       "<table border=\"1\" class=\"dataframe\">\n",
       "  <thead>\n",
       "    <tr style=\"text-align: right;\">\n",
       "      <th></th>\n",
       "      <th>repetitions</th>\n",
       "      <th>tag</th>\n",
       "    </tr>\n",
       "    <tr>\n",
       "      <th>id</th>\n",
       "      <th></th>\n",
       "      <th></th>\n",
       "    </tr>\n",
       "  </thead>\n",
       "  <tbody>\n",
       "    <tr>\n",
       "      <th>19</th>\n",
       "      <td>sequential_rec...</td>\n",
       "      <td>0</td>\n",
       "    </tr>\n",
       "    <tr>\n",
       "      <th>21</th>\n",
       "      <td>sequential_rec...</td>\n",
       "      <td>3</td>\n",
       "    </tr>\n",
       "  </tbody>\n",
       "</table>\n",
       "</div>"
      ],
      "text/plain": [
       "                                          repetitions  tag\n",
       "id                                                        \n",
       "19                                  sequential_rec...    0\n",
       "21                                  sequential_rec...    3"
      ]
     },
     "metadata": {},
     "output_type": "display_data"
    },
    {
     "name": "stdout",
     "output_type": "stream",
     "text": [
      "All Metadata\n"
     ]
    },
    {
     "data": {
      "text/html": [
       "<div>\n",
       "<style scoped>\n",
       "    .dataframe tbody tr th:only-of-type {\n",
       "        vertical-align: middle;\n",
       "    }\n",
       "\n",
       "    .dataframe tbody tr th {\n",
       "        vertical-align: top;\n",
       "    }\n",
       "\n",
       "    .dataframe thead tr th {\n",
       "        text-align: left;\n",
       "    }\n",
       "\n",
       "    .dataframe thead tr:last-of-type th {\n",
       "        text-align: right;\n",
       "    }\n",
       "</style>\n",
       "<table border=\"1\" class=\"dataframe\">\n",
       "  <thead>\n",
       "    <tr>\n",
       "      <th></th>\n",
       "      <th></th>\n",
       "      <th></th>\n",
       "      <th></th>\n",
       "      <th></th>\n",
       "      <th></th>\n",
       "      <th></th>\n",
       "      <th>source_table</th>\n",
       "      <th colspan=\"4\" halign=\"left\">intracellular_recordings</th>\n",
       "    </tr>\n",
       "    <tr>\n",
       "      <th></th>\n",
       "      <th></th>\n",
       "      <th></th>\n",
       "      <th></th>\n",
       "      <th></th>\n",
       "      <th></th>\n",
       "      <th></th>\n",
       "      <th>label</th>\n",
       "      <th>id</th>\n",
       "      <th>stimulus</th>\n",
       "      <th>response</th>\n",
       "      <th>electrode</th>\n",
       "    </tr>\n",
       "    <tr>\n",
       "      <th>experimental_conditions_id</th>\n",
       "      <th>experimental_conditions_tag</th>\n",
       "      <th>repetitions_id</th>\n",
       "      <th>sequential_recordings_id</th>\n",
       "      <th>sequential_recordings_stimulus_type</th>\n",
       "      <th>simultaneous_recordings_id</th>\n",
       "      <th>simultaneous_recordings_simultaneous_recording_tag</th>\n",
       "      <th>simultaneous_recordings_simultaneous_recording_type</th>\n",
       "      <th></th>\n",
       "      <th></th>\n",
       "      <th></th>\n",
       "      <th></th>\n",
       "    </tr>\n",
       "  </thead>\n",
       "  <tbody>\n",
       "    <tr>\n",
       "      <th rowspan=\"3\" valign=\"top\">19</th>\n",
       "      <th rowspan=\"3\" valign=\"top\">0</th>\n",
       "      <th rowspan=\"3\" valign=\"top\">17</th>\n",
       "      <th rowspan=\"3\" valign=\"top\">15</th>\n",
       "      <th rowspan=\"3\" valign=\"top\">square</th>\n",
       "      <th rowspan=\"3\" valign=\"top\">12</th>\n",
       "      <th rowspan=\"3\" valign=\"top\">LabTag1</th>\n",
       "      <th>SweepType1</th>\n",
       "      <td>10</td>\n",
       "      <td>[0, 5, ccss pynwb.icephys.VoltageClampStimulus...</td>\n",
       "      <td>[0, 5, vcs pynwb.icephys.VoltageClampSeries at...</td>\n",
       "      <td>elec0 pynwb.icephys.IntracellularElectrode at ...</td>\n",
       "    </tr>\n",
       "    <tr>\n",
       "      <th>SweepType1</th>\n",
       "      <td>11</td>\n",
       "      <td>[1, 3, ccss pynwb.icephys.VoltageClampStimulus...</td>\n",
       "      <td>[2, 3, vcs pynwb.icephys.VoltageClampSeries at...</td>\n",
       "      <td>elec0 pynwb.icephys.IntracellularElectrode at ...</td>\n",
       "    </tr>\n",
       "    <tr>\n",
       "      <th>SweepType1</th>\n",
       "      <td>12</td>\n",
       "      <td>[-1, -1, vcs pynwb.icephys.VoltageClampSeries ...</td>\n",
       "      <td>[0, 5, vcs pynwb.icephys.VoltageClampSeries at...</td>\n",
       "      <td>elec0 pynwb.icephys.IntracellularElectrode at ...</td>\n",
       "    </tr>\n",
       "    <tr>\n",
       "      <th rowspan=\"3\" valign=\"top\">21</th>\n",
       "      <th rowspan=\"3\" valign=\"top\">3</th>\n",
       "      <th rowspan=\"3\" valign=\"top\">17</th>\n",
       "      <th rowspan=\"3\" valign=\"top\">15</th>\n",
       "      <th rowspan=\"3\" valign=\"top\">square</th>\n",
       "      <th rowspan=\"3\" valign=\"top\">12</th>\n",
       "      <th rowspan=\"3\" valign=\"top\">LabTag1</th>\n",
       "      <th>SweepType1</th>\n",
       "      <td>10</td>\n",
       "      <td>[0, 5, ccss pynwb.icephys.VoltageClampStimulus...</td>\n",
       "      <td>[0, 5, vcs pynwb.icephys.VoltageClampSeries at...</td>\n",
       "      <td>elec0 pynwb.icephys.IntracellularElectrode at ...</td>\n",
       "    </tr>\n",
       "    <tr>\n",
       "      <th>SweepType1</th>\n",
       "      <td>11</td>\n",
       "      <td>[1, 3, ccss pynwb.icephys.VoltageClampStimulus...</td>\n",
       "      <td>[2, 3, vcs pynwb.icephys.VoltageClampSeries at...</td>\n",
       "      <td>elec0 pynwb.icephys.IntracellularElectrode at ...</td>\n",
       "    </tr>\n",
       "    <tr>\n",
       "      <th>SweepType1</th>\n",
       "      <td>12</td>\n",
       "      <td>[-1, -1, vcs pynwb.icephys.VoltageClampSeries ...</td>\n",
       "      <td>[0, 5, vcs pynwb.icephys.VoltageClampSeries at...</td>\n",
       "      <td>elec0 pynwb.icephys.IntracellularElectrode at ...</td>\n",
       "    </tr>\n",
       "  </tbody>\n",
       "</table>\n",
       "</div>"
      ],
      "text/plain": [
       "source_table                                                                                                                                                                                                                                                        intracellular_recordings  \\\n",
       "label                                                                                                                                                                                                                                                                                     id   \n",
       "experimental_conditions_id experimental_conditions_tag repetitions_id sequential_recordings_id sequential_recordings_stimulus_type simultaneous_recordings_id simultaneous_recordings_simultaneous_recording_tag simultaneous_recordings_simultaneous_recording_...                            \n",
       "19                         0                           17             15                       square                              12                         LabTag1                                            SweepType1                                                               10   \n",
       "                                                                                                                                                                                                                 SweepType1                                                               11   \n",
       "                                                                                                                                                                                                                 SweepType1                                                               12   \n",
       "21                         3                           17             15                       square                              12                         LabTag1                                            SweepType1                                                               10   \n",
       "                                                                                                                                                                                                                 SweepType1                                                               11   \n",
       "                                                                                                                                                                                                                 SweepType1                                                               12   \n",
       "\n",
       "source_table                                                                                                                                                                                                                                                                                                            \\\n",
       "label                                                                                                                                                                                                                                                                                                         stimulus   \n",
       "experimental_conditions_id experimental_conditions_tag repetitions_id sequential_recordings_id sequential_recordings_stimulus_type simultaneous_recordings_id simultaneous_recordings_simultaneous_recording_tag simultaneous_recordings_simultaneous_recording_...                                                      \n",
       "19                         0                           17             15                       square                              12                         LabTag1                                            SweepType1                                          [0, 5, ccss pynwb.icephys.VoltageClampStimulus...   \n",
       "                                                                                                                                                                                                                 SweepType1                                          [1, 3, ccss pynwb.icephys.VoltageClampStimulus...   \n",
       "                                                                                                                                                                                                                 SweepType1                                          [-1, -1, vcs pynwb.icephys.VoltageClampSeries ...   \n",
       "21                         3                           17             15                       square                              12                         LabTag1                                            SweepType1                                          [0, 5, ccss pynwb.icephys.VoltageClampStimulus...   \n",
       "                                                                                                                                                                                                                 SweepType1                                          [1, 3, ccss pynwb.icephys.VoltageClampStimulus...   \n",
       "                                                                                                                                                                                                                 SweepType1                                          [-1, -1, vcs pynwb.icephys.VoltageClampSeries ...   \n",
       "\n",
       "source_table                                                                                                                                                                                                                                                                                                            \\\n",
       "label                                                                                                                                                                                                                                                                                                         response   \n",
       "experimental_conditions_id experimental_conditions_tag repetitions_id sequential_recordings_id sequential_recordings_stimulus_type simultaneous_recordings_id simultaneous_recordings_simultaneous_recording_tag simultaneous_recordings_simultaneous_recording_...                                                      \n",
       "19                         0                           17             15                       square                              12                         LabTag1                                            SweepType1                                          [0, 5, vcs pynwb.icephys.VoltageClampSeries at...   \n",
       "                                                                                                                                                                                                                 SweepType1                                          [2, 3, vcs pynwb.icephys.VoltageClampSeries at...   \n",
       "                                                                                                                                                                                                                 SweepType1                                          [0, 5, vcs pynwb.icephys.VoltageClampSeries at...   \n",
       "21                         3                           17             15                       square                              12                         LabTag1                                            SweepType1                                          [0, 5, vcs pynwb.icephys.VoltageClampSeries at...   \n",
       "                                                                                                                                                                                                                 SweepType1                                          [2, 3, vcs pynwb.icephys.VoltageClampSeries at...   \n",
       "                                                                                                                                                                                                                 SweepType1                                          [0, 5, vcs pynwb.icephys.VoltageClampSeries at...   \n",
       "\n",
       "source_table                                                                                                                                                                                                                                                                                                            \n",
       "label                                                                                                                                                                                                                                                                                                        electrode  \n",
       "experimental_conditions_id experimental_conditions_tag repetitions_id sequential_recordings_id sequential_recordings_stimulus_type simultaneous_recordings_id simultaneous_recordings_simultaneous_recording_tag simultaneous_recordings_simultaneous_recording_...                                                     \n",
       "19                         0                           17             15                       square                              12                         LabTag1                                            SweepType1                                          elec0 pynwb.icephys.IntracellularElectrode at ...  \n",
       "                                                                                                                                                                                                                 SweepType1                                          elec0 pynwb.icephys.IntracellularElectrode at ...  \n",
       "                                                                                                                                                                                                                 SweepType1                                          elec0 pynwb.icephys.IntracellularElectrode at ...  \n",
       "21                         3                           17             15                       square                              12                         LabTag1                                            SweepType1                                          elec0 pynwb.icephys.IntracellularElectrode at ...  \n",
       "                                                                                                                                                                                                                 SweepType1                                          elec0 pynwb.icephys.IntracellularElectrode at ...  \n",
       "                                                                                                                                                                                                                 SweepType1                                          elec0 pynwb.icephys.IntracellularElectrode at ...  "
      ]
     },
     "metadata": {},
     "output_type": "display_data"
    }
   ],
   "source": [
    "# Read the data back in\n",
    "with NWBHDF5IO(testpath, 'r') as io:\n",
    "    infile = io.read() \n",
    "   \n",
    "    # assert intracellular_recordings\n",
    "    assert np.all(infile.intracellular_recordings.id[:] == nwbfile.intracellular_recordings.id[:])\n",
    "   \n",
    "    # Assert that the ids and the VectorData, VectorIndex, and table target of the recordings column of the Sweeps table are correct\n",
    "    assert np.all(infile.icephys_simultaneous_recordings.id[:] == nwbfile.icephys_simultaneous_recordings.id[:])\n",
    "    assert np.all(infile.icephys_simultaneous_recordings['recordings'].target.data[:] == nwbfile.icephys_simultaneous_recordings['recordings'].target.data[:])\n",
    "    assert np.all(infile.icephys_simultaneous_recordings['recordings'].data[:] == nwbfile.icephys_simultaneous_recordings['recordings'].data[:])\n",
    "    assert infile.icephys_simultaneous_recordings['recordings'].target.table.name == nwbfile.icephys_simultaneous_recordings['recordings'].target.table.name \n",
    "    \n",
    "    # Assert that the ids and the VectorData, VectorIndex, and table target of the simultaneous recordings column of the SweepSequences table are correct\n",
    "    assert np.all(infile.icephys_sequential_recordings.id[:] == nwbfile.icephys_sequential_recordings.id[:])\n",
    "    assert np.all(infile.icephys_sequential_recordings['simultaneous_recordings'].target.data[:] == nwbfile.icephys_sequential_recordings['simultaneous_recordings'].target.data[:])\n",
    "    assert np.all(infile.icephys_sequential_recordings['simultaneous_recordings'].data[:] == nwbfile.icephys_sequential_recordings['simultaneous_recordings'].data[:])\n",
    "    assert infile.icephys_sequential_recordings['simultaneous_recordings'].target.table.name == nwbfile.icephys_sequential_recordings['simultaneous_recordings'].target.table.name \n",
    "    \n",
    "    # Assert that the ids and the VectorData, VectorIndex, and table target of the sequential_recordings column of the Repetitions table are correct\n",
    "    assert np.all(infile.icephys_repetitions.id[:] == nwbfile.icephys_repetitions.id[:])\n",
    "    assert np.all(infile.icephys_repetitions['sequential_recordings'].target.data[:] == nwbfile.icephys_repetitions['sequential_recordings'].target.data[:])\n",
    "    assert np.all(infile.icephys_repetitions['sequential_recordings'] .data[:] == nwbfile.icephys_repetitions['sequential_recordings'].data[:])\n",
    "    assert infile.icephys_repetitions['sequential_recordings'].target.table.name == nwbfile.icephys_repetitions['sequential_recordings'].target.table.name \n",
    "    \n",
    "    # Assert that the ids and the VectorData, VectorIndex, and table target of the repetitions column of the Conditions table are correct\n",
    "    assert np.all(infile.icephys_experimental_conditions.id[:] == nwbfile.icephys_experimental_conditions.id[:])\n",
    "    assert np.all(infile.icephys_experimental_conditions['repetitions'].target.data[:] == nwbfile.icephys_experimental_conditions['repetitions'].target.data[:])\n",
    "    assert np.all(infile.icephys_experimental_conditions['repetitions'] .data[:] == nwbfile.icephys_experimental_conditions['repetitions'].data[:])\n",
    "    assert infile.icephys_experimental_conditions['repetitions'].target.table.name == nwbfile.icephys_experimental_conditions['repetitions'].target.table.name \n",
    "    assert np.all(infile.icephys_experimental_conditions['tag'][:] == nwbfile.icephys_experimental_conditions['tag'][:])\n",
    "    \n",
    "    # Show all the tables for visual validation\n",
    "    print(infile.intracellular_recordings.name)\n",
    "    display(infile.intracellular_recordings.to_dataframe())\n",
    "    print(infile.icephys_simultaneous_recordings.name)\n",
    "    display(infile.icephys_simultaneous_recordings.to_dataframe())\n",
    "    print(infile.icephys_sequential_recordings.name)\n",
    "    display(infile.icephys_sequential_recordings.to_dataframe())\n",
    "    print(infile.icephys_repetitions.name)\n",
    "    display(infile.icephys_repetitions.to_dataframe())\n",
    "    print(infile.icephys_experimental_conditions.name)\n",
    "    display(infile.icephys_experimental_conditions.to_dataframe())\n",
    "    print('All Metadata')\n",
    "    display(infile.icephys_experimental_conditions.to_hierarchical_dataframe())"
   ]
  },
  {
   "cell_type": "markdown",
   "metadata": {},
   "source": [
    "# 6.2 Validate the file via the NWB validator"
   ]
  },
  {
   "cell_type": "code",
   "execution_count": 28,
   "metadata": {},
   "outputs": [],
   "source": [
    "import subprocess\n",
    "valres = subprocess.run([\"python\", \"-m\", \"pynwb.validate\", testpath], capture_output=True)"
   ]
  },
  {
   "cell_type": "code",
   "execution_count": 29,
   "metadata": {},
   "outputs": [
    {
     "name": "stdout",
     "output_type": "stream",
     "text": [
      "Validation Return Code: 1\n",
      "\n",
      "Validation stderr\n",
      "-----------------\n",
      "Traceback (most recent call last):\n",
      "  File \"/Users/oruebel/anaconda3/envs/py4nwb/lib/python3.7/runpy.py\", line 193, in _run_module_as_main\n",
      "    \"__main__\", mod_spec)\n",
      "  File \"/Users/oruebel/anaconda3/envs/py4nwb/lib/python3.7/runpy.py\", line 85, in _run_code\n",
      "    exec(code, run_globals)\n",
      "  File \"/Users/oruebel/Devel/nwb/pynwb/src/pynwb/validate.py\", line 126, in <module>\n",
      "    main()\n",
      "  File \"/Users/oruebel/Devel/nwb/pynwb/src/pynwb/validate.py\", line 72, in main\n",
      "    ns_deps = NWBHDF5IO.load_namespaces(catalog, path)\n",
      "  File \"/Users/oruebel/Devel/nwb/hdmf/src/hdmf/utils.py\", line 483, in func_call\n",
      "    return func(args[0], **parsed['args'])\n",
      "  File \"/Users/oruebel/Devel/nwb/hdmf/src/hdmf/backends/hdf5/h5tools.py\", line 126, in load_namespaces\n",
      "    d.update(namespace_catalog.load_namespaces('namespace', reader=reader))\n",
      "  File \"/Users/oruebel/Devel/nwb/hdmf/src/hdmf/utils.py\", line 483, in func_call\n",
      "    return func(args[0], **parsed['args'])\n",
      "  File \"/Users/oruebel/Devel/nwb/hdmf/src/hdmf/spec/namespace.py\", line 466, in load_namespaces\n",
      "    ret[ns['name']] = self.__load_namespace(ns, reader, types_key, resolve=resolve)\n",
      "  File \"/Users/oruebel/Devel/nwb/hdmf/src/hdmf/spec/namespace.py\", line 407, in __load_namespace\n",
      "    self.__load_spec_file(reader, s['source'], catalog, dtypes=dtypes, resolve=resolve)\n",
      "  File \"/Users/oruebel/Devel/nwb/hdmf/src/hdmf/spec/namespace.py\", line 375, in __load_spec_file\n",
      "    ret.extend(__reg_spec(self.__group_spec_cls, spec_dict))\n",
      "  File \"/Users/oruebel/Devel/nwb/hdmf/src/hdmf/spec/namespace.py\", line 365, in __reg_spec\n",
      "    return catalog.auto_register(spec_obj, spec_source)\n",
      "  File \"/Users/oruebel/Devel/nwb/hdmf/src/hdmf/utils.py\", line 483, in func_call\n",
      "    return func(args[0], **parsed['args'])\n",
      "  File \"/Users/oruebel/Devel/nwb/hdmf/src/hdmf/spec/catalog.py\", line 101, in auto_register\n",
      "    ret.extend(self.auto_register(group_spec, source_file))\n",
      "  File \"/Users/oruebel/Devel/nwb/hdmf/src/hdmf/utils.py\", line 483, in func_call\n",
      "    return func(args[0], **parsed['args'])\n",
      "  File \"/Users/oruebel/Devel/nwb/hdmf/src/hdmf/spec/catalog.py\", line 101, in auto_register\n",
      "    ret.extend(self.auto_register(group_spec, source_file))\n",
      "  File \"/Users/oruebel/Devel/nwb/hdmf/src/hdmf/utils.py\", line 483, in func_call\n",
      "    return func(args[0], **parsed['args'])\n",
      "  File \"/Users/oruebel/Devel/nwb/hdmf/src/hdmf/spec/catalog.py\", line 101, in auto_register\n",
      "    ret.extend(self.auto_register(group_spec, source_file))\n",
      "  File \"/Users/oruebel/Devel/nwb/hdmf/src/hdmf/utils.py\", line 483, in func_call\n",
      "    return func(args[0], **parsed['args'])\n",
      "  File \"/Users/oruebel/Devel/nwb/hdmf/src/hdmf/spec/catalog.py\", line 92, in auto_register\n",
      "    self.register_spec(spec, source_file)\n",
      "  File \"/Users/oruebel/Devel/nwb/hdmf/src/hdmf/utils.py\", line 483, in func_call\n",
      "    return func(args[0], **parsed['args'])\n",
      "  File \"/Users/oruebel/Devel/nwb/hdmf/src/hdmf/spec/catalog.py\", line 45, in register_spec\n",
      "    raise ValueError(\"'%s' - cannot overwrite existing specification\" % type_name)\n",
      "ValueError: 'Device' - cannot overwrite existing specification\n",
      "\n",
      "Validation stdcout\n",
      "------------------\n",
      "\n"
     ]
    }
   ],
   "source": [
    "print(\"Validation Return Code: %s\" % str(valres.returncode))\n",
    "print()\n",
    "print(\"Validation stderr\")\n",
    "print(\"-----------------\")\n",
    "print(valres.stderr.decode('utf8'))\n",
    "print(\"Validation stdcout\")\n",
    "print(\"------------------\")\n",
    "print(valres.stdout.decode('utf8'))"
   ]
  },
  {
   "cell_type": "code",
   "execution_count": null,
   "metadata": {},
   "outputs": [],
   "source": []
  }
 ],
 "metadata": {
  "kernelspec": {
   "display_name": "Python 3",
   "language": "python",
   "name": "python3"
  },
  "language_info": {
   "codemirror_mode": {
    "name": "ipython",
    "version": 3
   },
   "file_extension": ".py",
   "mimetype": "text/x-python",
   "name": "python",
   "nbconvert_exporter": "python",
   "pygments_lexer": "ipython3",
   "version": "3.7.4"
  }
 },
 "nbformat": 4,
 "nbformat_minor": 4
}
